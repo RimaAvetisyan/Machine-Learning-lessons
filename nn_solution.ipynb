{
  "cells": [
    {
      "cell_type": "markdown",
      "id": "599f5f20-76e9-4d80-9946-16bb9d4a7f13",
      "metadata": {
        "id": "599f5f20-76e9-4d80-9946-16bb9d4a7f13"
      },
      "source": [
        "## Fully-Connected Neural Networks"
      ]
    },
    {
      "cell_type": "code",
      "execution_count": 2,
      "id": "9b2493c1-ee98-47de-875f-eca168276c6a",
      "metadata": {
        "id": "9b2493c1-ee98-47de-875f-eca168276c6a"
      },
      "outputs": [],
      "source": [
        "import numpy as np\n",
        "from sklearn.datasets import load_digits"
      ]
    },
    {
      "cell_type": "code",
      "execution_count": 3,
      "id": "10903947-2d3f-444d-b2c2-0ffd9461a644",
      "metadata": {
        "id": "10903947-2d3f-444d-b2c2-0ffd9461a644"
      },
      "outputs": [],
      "source": [
        "X, y = load_digits(return_X_y=True)"
      ]
    },
    {
      "cell_type": "code",
      "execution_count": 4,
      "id": "5fa7141f-90ef-416a-a4dd-2dc02e1a7653",
      "metadata": {
        "id": "5fa7141f-90ef-416a-a4dd-2dc02e1a7653",
        "outputId": "36c408ef-7a41-4d14-8b1f-b59245b5befd",
        "colab": {
          "base_uri": "https://localhost:8080/"
        }
      },
      "outputs": [
        {
          "output_type": "execute_result",
          "data": {
            "text/plain": [
              "((1797, 64), (1797,))"
            ]
          },
          "metadata": {},
          "execution_count": 4
        }
      ],
      "source": [
        "X.shape, y.shape"
      ]
    },
    {
      "cell_type": "code",
      "execution_count": 5,
      "id": "28eb45e6-307e-426c-9b3b-98f0606653a9",
      "metadata": {
        "id": "28eb45e6-307e-426c-9b3b-98f0606653a9",
        "outputId": "52fb7d56-a321-4d2c-f390-f3f668a60fb4",
        "colab": {
          "base_uri": "https://localhost:8080/"
        }
      },
      "outputs": [
        {
          "output_type": "execute_result",
          "data": {
            "text/plain": [
              "array([[ 0.,  0.,  5., ...,  0.,  0.,  0.],\n",
              "       [ 0.,  0.,  0., ..., 10.,  0.,  0.],\n",
              "       [ 0.,  0.,  0., ..., 16.,  9.,  0.],\n",
              "       ...,\n",
              "       [ 0.,  0.,  1., ...,  6.,  0.,  0.],\n",
              "       [ 0.,  0.,  2., ..., 12.,  0.,  0.],\n",
              "       [ 0.,  0., 10., ..., 12.,  1.,  0.]])"
            ]
          },
          "metadata": {},
          "execution_count": 5
        }
      ],
      "source": [
        "X"
      ]
    },
    {
      "cell_type": "code",
      "execution_count": 6,
      "id": "6a1e9d1c-6122-49a3-ab62-9c3ac5272a2b",
      "metadata": {
        "id": "6a1e9d1c-6122-49a3-ab62-9c3ac5272a2b",
        "outputId": "97e8220d-6cef-4486-a0ad-da2dec3c0092",
        "colab": {
          "base_uri": "https://localhost:8080/"
        }
      },
      "outputs": [
        {
          "output_type": "execute_result",
          "data": {
            "text/plain": [
              "array([0, 1, 2, ..., 8, 9, 8])"
            ]
          },
          "metadata": {},
          "execution_count": 6
        }
      ],
      "source": [
        "y"
      ]
    },
    {
      "cell_type": "code",
      "execution_count": 7,
      "id": "13aafe8e-f4d0-4021-b9ea-1efa8e10aec7",
      "metadata": {
        "id": "13aafe8e-f4d0-4021-b9ea-1efa8e10aec7"
      },
      "outputs": [],
      "source": [
        "from sklearn.model_selection import train_test_split\n",
        "X_train, X_test, y_train, y_test = train_test_split(X, y, test_size=0.2, random_state=42)"
      ]
    },
    {
      "cell_type": "code",
      "execution_count": 8,
      "id": "b551bd7c-8456-48bc-9cdf-186bc5d84b95",
      "metadata": {
        "id": "b551bd7c-8456-48bc-9cdf-186bc5d84b95",
        "outputId": "b7665dff-34ca-46a3-e1cb-0a5ff1b2508c",
        "colab": {
          "base_uri": "https://localhost:8080/"
        }
      },
      "outputs": [
        {
          "output_type": "execute_result",
          "data": {
            "text/plain": [
              "((1437, 64), (1437,), (360, 64), (360,))"
            ]
          },
          "metadata": {},
          "execution_count": 8
        }
      ],
      "source": [
        "X_train.shape, y_train.shape , X_test.shape, y_test.shape"
      ]
    },
    {
      "cell_type": "markdown",
      "id": "5812c413-d558-4477-a9e3-206e4aed1f43",
      "metadata": {
        "id": "5812c413-d558-4477-a9e3-206e4aed1f43"
      },
      "source": [
        "---"
      ]
    },
    {
      "cell_type": "code",
      "execution_count": 9,
      "id": "be91ade6-7ca8-4295-b180-ae9759a6642a",
      "metadata": {
        "collapsed": true,
        "jupyter": {
          "outputs_hidden": true
        },
        "tags": [],
        "id": "be91ade6-7ca8-4295-b180-ae9759a6642a"
      },
      "outputs": [],
      "source": [
        "# !pip install tensorflow"
      ]
    },
    {
      "cell_type": "code",
      "execution_count": 10,
      "id": "eda3f278-fb3e-4b9c-b182-7b56e1ce5a11",
      "metadata": {
        "id": "eda3f278-fb3e-4b9c-b182-7b56e1ce5a11"
      },
      "outputs": [],
      "source": [
        "import tensorflow as tf"
      ]
    },
    {
      "cell_type": "code",
      "execution_count": 11,
      "id": "78d92dfb-90ab-4688-9154-9d75e4ae3f55",
      "metadata": {
        "id": "78d92dfb-90ab-4688-9154-9d75e4ae3f55"
      },
      "outputs": [],
      "source": [
        "from tensorflow.keras.layers import Dense\n",
        "model = tf.keras.Sequential()\n",
        "model.add(tf.keras.Input(shape=(64,)))\n",
        "model.add(Dense(100, activation='relu'))\n",
        "model.add(Dense(10, activation='softmax'))"
      ]
    },
    {
      "cell_type": "code",
      "execution_count": 12,
      "id": "9ae56155-dc34-49cb-a0eb-365780a5611c",
      "metadata": {
        "id": "9ae56155-dc34-49cb-a0eb-365780a5611c",
        "outputId": "d04be48e-11ea-48a9-a697-23aadb309747",
        "colab": {
          "base_uri": "https://localhost:8080/"
        }
      },
      "outputs": [
        {
          "output_type": "stream",
          "name": "stdout",
          "text": [
            "Model: \"sequential\"\n",
            "_________________________________________________________________\n",
            " Layer (type)                Output Shape              Param #   \n",
            "=================================================================\n",
            " dense (Dense)               (None, 100)               6500      \n",
            "                                                                 \n",
            " dense_1 (Dense)             (None, 10)                1010      \n",
            "                                                                 \n",
            "=================================================================\n",
            "Total params: 7,510\n",
            "Trainable params: 7,510\n",
            "Non-trainable params: 0\n",
            "_________________________________________________________________\n"
          ]
        }
      ],
      "source": [
        "model.summary()"
      ]
    },
    {
      "cell_type": "code",
      "execution_count": 13,
      "id": "90278421-022e-4c54-be12-a3b44524f32b",
      "metadata": {
        "id": "90278421-022e-4c54-be12-a3b44524f32b"
      },
      "outputs": [],
      "source": [
        "model.compile(loss=\"sparse_categorical_crossentropy\", metrics = [\"accuracy\"])"
      ]
    },
    {
      "cell_type": "code",
      "execution_count": 14,
      "id": "cedddf13-1606-41e7-8adb-187abe671825",
      "metadata": {
        "id": "cedddf13-1606-41e7-8adb-187abe671825",
        "outputId": "66a6119e-2a17-4fe1-b2b8-54a7364527f1",
        "colab": {
          "base_uri": "https://localhost:8080/"
        }
      },
      "outputs": [
        {
          "output_type": "stream",
          "name": "stdout",
          "text": [
            "Epoch 1/20\n",
            "41/41 [==============================] - 1s 7ms/step - loss: 2.1418 - accuracy: 0.5112 - val_loss: 0.7694 - val_accuracy: 0.7639\n",
            "Epoch 2/20\n",
            "41/41 [==============================] - 0s 3ms/step - loss: 0.4784 - accuracy: 0.8476 - val_loss: 0.3310 - val_accuracy: 0.9097\n",
            "Epoch 3/20\n",
            "41/41 [==============================] - 0s 2ms/step - loss: 0.2570 - accuracy: 0.9196 - val_loss: 0.2661 - val_accuracy: 0.9236\n",
            "Epoch 4/20\n",
            "41/41 [==============================] - 0s 3ms/step - loss: 0.1605 - accuracy: 0.9482 - val_loss: 0.1965 - val_accuracy: 0.9375\n",
            "Epoch 5/20\n",
            "41/41 [==============================] - 0s 2ms/step - loss: 0.1185 - accuracy: 0.9667 - val_loss: 0.2132 - val_accuracy: 0.9583\n",
            "Epoch 6/20\n",
            "41/41 [==============================] - 0s 3ms/step - loss: 0.0792 - accuracy: 0.9791 - val_loss: 0.2010 - val_accuracy: 0.9444\n",
            "Epoch 7/20\n",
            "41/41 [==============================] - 0s 2ms/step - loss: 0.0680 - accuracy: 0.9853 - val_loss: 0.2030 - val_accuracy: 0.9375\n",
            "Epoch 8/20\n",
            "41/41 [==============================] - 0s 2ms/step - loss: 0.0592 - accuracy: 0.9838 - val_loss: 0.1766 - val_accuracy: 0.9583\n",
            "Epoch 9/20\n",
            "41/41 [==============================] - 0s 2ms/step - loss: 0.0419 - accuracy: 0.9907 - val_loss: 0.2170 - val_accuracy: 0.9444\n",
            "Epoch 10/20\n",
            "41/41 [==============================] - 0s 2ms/step - loss: 0.0347 - accuracy: 0.9907 - val_loss: 0.1577 - val_accuracy: 0.9583\n",
            "Epoch 11/20\n",
            "41/41 [==============================] - 0s 2ms/step - loss: 0.0307 - accuracy: 0.9930 - val_loss: 0.1163 - val_accuracy: 0.9722\n",
            "Epoch 12/20\n",
            "41/41 [==============================] - 0s 3ms/step - loss: 0.0236 - accuracy: 0.9938 - val_loss: 0.1114 - val_accuracy: 0.9722\n",
            "Epoch 13/20\n",
            "41/41 [==============================] - 0s 3ms/step - loss: 0.0193 - accuracy: 0.9969 - val_loss: 0.1378 - val_accuracy: 0.9583\n",
            "Epoch 14/20\n",
            "41/41 [==============================] - 0s 3ms/step - loss: 0.0162 - accuracy: 0.9946 - val_loss: 0.1603 - val_accuracy: 0.9583\n",
            "Epoch 15/20\n",
            "41/41 [==============================] - 0s 2ms/step - loss: 0.0143 - accuracy: 0.9961 - val_loss: 0.0895 - val_accuracy: 0.9653\n",
            "Epoch 16/20\n",
            "41/41 [==============================] - 0s 2ms/step - loss: 0.0109 - accuracy: 0.9977 - val_loss: 0.1120 - val_accuracy: 0.9722\n",
            "Epoch 17/20\n",
            "41/41 [==============================] - 0s 2ms/step - loss: 0.0092 - accuracy: 0.9985 - val_loss: 0.0896 - val_accuracy: 0.9792\n",
            "Epoch 18/20\n",
            "41/41 [==============================] - 0s 2ms/step - loss: 0.0095 - accuracy: 0.9985 - val_loss: 0.1530 - val_accuracy: 0.9653\n",
            "Epoch 19/20\n",
            "41/41 [==============================] - 0s 2ms/step - loss: 0.0063 - accuracy: 0.9992 - val_loss: 0.1572 - val_accuracy: 0.9653\n",
            "Epoch 20/20\n",
            "41/41 [==============================] - 0s 2ms/step - loss: 0.0066 - accuracy: 0.9985 - val_loss: 0.1165 - val_accuracy: 0.9792\n"
          ]
        },
        {
          "output_type": "execute_result",
          "data": {
            "text/plain": [
              "<keras.callbacks.History at 0x7fe21854e410>"
            ]
          },
          "metadata": {},
          "execution_count": 14
        }
      ],
      "source": [
        "model.fit(X_train, y_train, batch_size=32, epochs=20, validation_split=0.1)"
      ]
    },
    {
      "cell_type": "code",
      "execution_count": 15,
      "id": "13bae58c-980a-4080-bf06-a2dd820cde1e",
      "metadata": {
        "id": "13bae58c-980a-4080-bf06-a2dd820cde1e",
        "outputId": "394bcaa3-6fec-47e0-e946-84aef56dbd80",
        "colab": {
          "base_uri": "https://localhost:8080/"
        }
      },
      "outputs": [
        {
          "output_type": "stream",
          "name": "stdout",
          "text": [
            "12/12 [==============================] - 0s 2ms/step - loss: 0.0823 - accuracy: 0.9778\n"
          ]
        },
        {
          "output_type": "execute_result",
          "data": {
            "text/plain": [
              "[0.08226823061704636, 0.9777777791023254]"
            ]
          },
          "metadata": {},
          "execution_count": 15
        }
      ],
      "source": [
        "model.evaluate(X_test, y_test)"
      ]
    },
    {
      "cell_type": "code",
      "execution_count": 16,
      "id": "469bb445-372a-40e0-9855-88483ba44842",
      "metadata": {
        "id": "469bb445-372a-40e0-9855-88483ba44842",
        "outputId": "757c463c-98ce-4bb3-8def-a2dcdab19c34",
        "colab": {
          "base_uri": "https://localhost:8080/"
        }
      },
      "outputs": [
        {
          "output_type": "stream",
          "name": "stdout",
          "text": [
            "\n",
            "0.0\t0.0\t15.0\t16.0\t16.0\t12.0\t2.0\t0.0\t\n",
            "0.0\t2.0\t16.0\t15.0\t12.0\t12.0\t3.0\t0.0\t\n",
            "0.0\t4.0\t16.0\t8.0\t0.0\t0.0\t0.0\t0.0\t\n",
            "0.0\t8.0\t16.0\t12.0\t4.0\t0.0\t0.0\t0.0\t\n",
            "0.0\t0.0\t12.0\t16.0\t16.0\t0.0\t0.0\t0.0\t\n",
            "0.0\t0.0\t0.0\t3.0\t16.0\t8.0\t0.0\t0.0\t\n",
            "0.0\t2.0\t6.0\t9.0\t16.0\t8.0\t0.0\t0.0\t\n",
            "0.0\t1.0\t15.0\t16.0\t15.0\t3.0\t0.0\t0.0\t"
          ]
        }
      ],
      "source": [
        "test_example = X_test[53]\n",
        "for i, num in enumerate(test_example):\n",
        "    if(i % 8 == 0) :\n",
        "        print('\\n' ,end='')\n",
        "    print(num, end='\\t')"
      ]
    },
    {
      "cell_type": "code",
      "execution_count": 17,
      "id": "4ebeb77b-a359-4324-94b0-90562f95dbe4",
      "metadata": {
        "id": "4ebeb77b-a359-4324-94b0-90562f95dbe4",
        "outputId": "566504a4-9f0a-4232-b2a9-c27b417d0179",
        "colab": {
          "base_uri": "https://localhost:8080/",
          "height": 265
        }
      },
      "outputs": [
        {
          "output_type": "display_data",
          "data": {
            "text/plain": [
              "<Figure size 432x288 with 1 Axes>"
            ],
            "image/png": "[encoded data removed]"
          },
          "metadata": {
            "needs_background": "light"
          }
        }
      ],
      "source": [
        "from matplotlib import pyplot as plt\n",
        "plt.imshow(test_example.reshape(8, 8))\n",
        "plt.show()"
      ]
    },
    {
      "cell_type": "code",
      "execution_count": 18,
      "id": "7b3f5f35-53ff-4b1e-8d72-33a8cca435a3",
      "metadata": {
        "id": "7b3f5f35-53ff-4b1e-8d72-33a8cca435a3",
        "outputId": "a25f9df4-f9a3-4352-9107-c289c9606585",
        "colab": {
          "base_uri": "https://localhost:8080/"
        }
      },
      "outputs": [
        {
          "output_type": "execute_result",
          "data": {
            "text/plain": [
              "array([[1.0030508e-11, 3.3331732e-10, 5.3355818e-12, 8.3055504e-08,\n",
              "        3.0614825e-13, 9.9999988e-01, 1.2262373e-12, 6.0075176e-13,\n",
              "        4.3026539e-08, 7.9361886e-09]], dtype=float32)"
            ]
          },
          "metadata": {},
          "execution_count": 18
        }
      ],
      "source": [
        "test_prediction = model.predict(np.array([test_example]))\n",
        "test_prediction"
      ]
    },
    {
      "cell_type": "code",
      "execution_count": 19,
      "id": "664d7f62-7073-47a0-a879-2ea5d773a4de",
      "metadata": {
        "id": "664d7f62-7073-47a0-a879-2ea5d773a4de",
        "outputId": "f505ca67-8b3b-4a8f-ee04-ec3168f741ba",
        "colab": {
          "base_uri": "https://localhost:8080/"
        }
      },
      "outputs": [
        {
          "output_type": "execute_result",
          "data": {
            "text/plain": [
              "5"
            ]
          },
          "metadata": {},
          "execution_count": 19
        }
      ],
      "source": [
        "test_prediction[0].argmax()"
      ]
    },
    {
      "cell_type": "markdown",
      "id": "aa541177-4b0f-4ffd-871b-9d27e8d37c59",
      "metadata": {
        "id": "aa541177-4b0f-4ffd-871b-9d27e8d37c59"
      },
      "source": [
        "---"
      ]
    },
    {
      "cell_type": "code",
      "execution_count": 20,
      "id": "401fcfbd-4558-458e-a734-7c480dd2f299",
      "metadata": {
        "id": "401fcfbd-4558-458e-a734-7c480dd2f299",
        "outputId": "f7b1d496-518a-4dad-f21f-7c9f0f6fe9b2",
        "colab": {
          "base_uri": "https://localhost:8080/"
        }
      },
      "outputs": [
        {
          "output_type": "stream",
          "name": "stdout",
          "text": [
            "Downloading data from https://storage.googleapis.com/tensorflow/tf-keras-datasets/mnist.npz\n",
            "11493376/11490434 [==============================] - 0s 0us/step\n",
            "11501568/11490434 [==============================] - 0s 0us/step\n"
          ]
        },
        {
          "output_type": "execute_result",
          "data": {
            "text/plain": [
              "((60000, 28, 28), (60000,), (10000, 28, 28), (10000,))"
            ]
          },
          "metadata": {},
          "execution_count": 20
        }
      ],
      "source": [
        "from tensorflow.keras.datasets import mnist\n",
        "(x_train, y_train), (x_test, y_test) = mnist.load_data()\n",
        "x_train.shape, y_train.shape, x_test.shape, y_test.shape"
      ]
    },
    {
      "cell_type": "code",
      "execution_count": 21,
      "id": "def1fc50-09a6-4378-8c41-d48f9eeaaaa9",
      "metadata": {
        "id": "def1fc50-09a6-4378-8c41-d48f9eeaaaa9",
        "outputId": "59a964fe-2f52-453e-d9cc-ba1ce26d9684",
        "colab": {
          "base_uri": "https://localhost:8080/",
          "height": 265
        }
      },
      "outputs": [
        {
          "output_type": "display_data",
          "data": {
            "text/plain": [
              "<Figure size 432x288 with 1 Axes>"
            ],
            "image/png": "[encoded data removed]"
          },
          "metadata": {
            "needs_background": "light"
          }
        }
      ],
      "source": [
        "plt.imshow(x_train[7475])\n",
        "plt.show()"
      ]
    },
    {
      "cell_type": "markdown",
      "id": "70e15128-c309-490a-bea1-be16dc061fdd",
      "metadata": {
        "id": "70e15128-c309-490a-bea1-be16dc061fdd"
      },
      "source": [
        "### Task: Train a fully-connected neural network for MNIST dataset and try to change the model and hyperparameters to get high accuracy"
      ]
    },
    {
      "cell_type": "code",
      "execution_count": 22,
      "id": "be68f899-0db1-43c3-afa8-4d141d04d001",
      "metadata": {
        "id": "be68f899-0db1-43c3-afa8-4d141d04d001"
      },
      "outputs": [],
      "source": [
        "from tensorflow.keras.layers import Dense, Flatten\n",
        "model = tf.keras.Sequential()\n",
        "model.add(tf.keras.Input(shape=(28,28,1)))\n",
        "model.add(Flatten())\n",
        "model.add(Dense(100, activation='relu'))\n",
        "model.add(Dense(50, activation='relu'))\n",
        "model.add(Dense(20, activation='relu'))\n",
        "model.add(Dense(10, activation='softmax'))"
      ]
    },
    {
      "cell_type": "code",
      "source": [
        "model.summary()"
      ],
      "metadata": {
        "colab": {
          "base_uri": "https://localhost:8080/"
        },
        "id": "d74xCSLdEyCU",
        "outputId": "8fa1e486-4782-47fe-e5a6-dc14b9c45f53"
      },
      "id": "d74xCSLdEyCU",
      "execution_count": 23,
      "outputs": [
        {
          "output_type": "stream",
          "name": "stdout",
          "text": [
            "Model: \"sequential_1\"\n",
            "_________________________________________________________________\n",
            " Layer (type)                Output Shape              Param #   \n",
            "=================================================================\n",
            " flatten (Flatten)           (None, 784)               0         \n",
            "                                                                 \n",
            " dense_2 (Dense)             (None, 100)               78500     \n",
            "                                                                 \n",
            " dense_3 (Dense)             (None, 50)                5050      \n",
            "                                                                 \n",
            " dense_4 (Dense)             (None, 20)                1020      \n",
            "                                                                 \n",
            " dense_5 (Dense)             (None, 10)                210       \n",
            "                                                                 \n",
            "=================================================================\n",
            "Total params: 84,780\n",
            "Trainable params: 84,780\n",
            "Non-trainable params: 0\n",
            "_________________________________________________________________\n"
          ]
        }
      ]
    },
    {
      "cell_type": "code",
      "source": [
        "model.compile(loss='sparse_categorical_crossentropy', metrics=['accuracy'])"
      ],
      "metadata": {
        "id": "VbgMrguQalBt"
      },
      "id": "VbgMrguQalBt",
      "execution_count": 24,
      "outputs": []
    },
    {
      "cell_type": "code",
      "source": [
        "model.fit(x_train, y_train, batch_size=256, epochs=30, validation_split=0.1)"
      ],
      "metadata": {
        "colab": {
          "base_uri": "https://localhost:8080/"
        },
        "id": "2QqGEsyRatTe",
        "outputId": "e9e1cc9d-31dc-41d0-e75b-940480420d0a"
      },
      "id": "2QqGEsyRatTe",
      "execution_count": 25,
      "outputs": [
        {
          "output_type": "stream",
          "name": "stdout",
          "text": [
            "Epoch 1/30\n",
            "211/211 [==============================] - 2s 7ms/step - loss: 3.1338 - accuracy: 0.7196 - val_loss: 0.6157 - val_accuracy: 0.8530\n",
            "Epoch 2/30\n",
            "211/211 [==============================] - 1s 6ms/step - loss: 0.4880 - accuracy: 0.8781 - val_loss: 0.2966 - val_accuracy: 0.9300\n",
            "Epoch 3/30\n",
            "211/211 [==============================] - 1s 6ms/step - loss: 0.3295 - accuracy: 0.9164 - val_loss: 0.2663 - val_accuracy: 0.9373\n",
            "Epoch 4/30\n",
            "211/211 [==============================] - 1s 6ms/step - loss: 0.2514 - accuracy: 0.9355 - val_loss: 0.2303 - val_accuracy: 0.9468\n",
            "Epoch 5/30\n",
            "211/211 [==============================] - 1s 6ms/step - loss: 0.2043 - accuracy: 0.9446 - val_loss: 0.2070 - val_accuracy: 0.9532\n",
            "Epoch 6/30\n",
            "211/211 [==============================] - 1s 6ms/step - loss: 0.1741 - accuracy: 0.9541 - val_loss: 0.1967 - val_accuracy: 0.9545\n",
            "Epoch 7/30\n",
            "211/211 [==============================] - 1s 6ms/step - loss: 0.1530 - accuracy: 0.9579 - val_loss: 0.1939 - val_accuracy: 0.9607\n",
            "Epoch 8/30\n",
            "211/211 [==============================] - 1s 6ms/step - loss: 0.1354 - accuracy: 0.9626 - val_loss: 0.1707 - val_accuracy: 0.9628\n",
            "Epoch 9/30\n",
            "211/211 [==============================] - 1s 6ms/step - loss: 0.1167 - accuracy: 0.9672 - val_loss: 0.1765 - val_accuracy: 0.9633\n",
            "Epoch 10/30\n",
            "211/211 [==============================] - 1s 6ms/step - loss: 0.1077 - accuracy: 0.9692 - val_loss: 0.1584 - val_accuracy: 0.9615\n",
            "Epoch 11/30\n",
            "211/211 [==============================] - 1s 6ms/step - loss: 0.1015 - accuracy: 0.9706 - val_loss: 0.1529 - val_accuracy: 0.9662\n",
            "Epoch 12/30\n",
            "211/211 [==============================] - 1s 6ms/step - loss: 0.0889 - accuracy: 0.9748 - val_loss: 0.1720 - val_accuracy: 0.9665\n",
            "Epoch 13/30\n",
            "211/211 [==============================] - 1s 6ms/step - loss: 0.0799 - accuracy: 0.9772 - val_loss: 0.1902 - val_accuracy: 0.9683\n",
            "Epoch 14/30\n",
            "211/211 [==============================] - 1s 6ms/step - loss: 0.0738 - accuracy: 0.9791 - val_loss: 0.1937 - val_accuracy: 0.9648\n",
            "Epoch 15/30\n",
            "211/211 [==============================] - 1s 6ms/step - loss: 0.0695 - accuracy: 0.9798 - val_loss: 0.1681 - val_accuracy: 0.9682\n",
            "Epoch 16/30\n",
            "211/211 [==============================] - 1s 5ms/step - loss: 0.0663 - accuracy: 0.9812 - val_loss: 0.2102 - val_accuracy: 0.9670\n",
            "Epoch 17/30\n",
            "211/211 [==============================] - 1s 6ms/step - loss: 0.0626 - accuracy: 0.9822 - val_loss: 0.1894 - val_accuracy: 0.9695\n",
            "Epoch 18/30\n",
            "211/211 [==============================] - 1s 6ms/step - loss: 0.0603 - accuracy: 0.9831 - val_loss: 0.2145 - val_accuracy: 0.9660\n",
            "Epoch 19/30\n",
            "211/211 [==============================] - 1s 6ms/step - loss: 0.0549 - accuracy: 0.9842 - val_loss: 0.1984 - val_accuracy: 0.9697\n",
            "Epoch 20/30\n",
            "211/211 [==============================] - 1s 6ms/step - loss: 0.0564 - accuracy: 0.9847 - val_loss: 0.2009 - val_accuracy: 0.9715\n",
            "Epoch 21/30\n",
            "211/211 [==============================] - 1s 6ms/step - loss: 0.0522 - accuracy: 0.9853 - val_loss: 0.1945 - val_accuracy: 0.9700\n",
            "Epoch 22/30\n",
            "211/211 [==============================] - 1s 6ms/step - loss: 0.0516 - accuracy: 0.9857 - val_loss: 0.2188 - val_accuracy: 0.9675\n",
            "Epoch 23/30\n",
            "211/211 [==============================] - 1s 6ms/step - loss: 0.0498 - accuracy: 0.9867 - val_loss: 0.2156 - val_accuracy: 0.9725\n",
            "Epoch 24/30\n",
            "211/211 [==============================] - 1s 6ms/step - loss: 0.0464 - accuracy: 0.9869 - val_loss: 0.1990 - val_accuracy: 0.9725\n",
            "Epoch 25/30\n",
            "211/211 [==============================] - 1s 6ms/step - loss: 0.0440 - accuracy: 0.9881 - val_loss: 0.2516 - val_accuracy: 0.9708\n",
            "Epoch 26/30\n",
            "211/211 [==============================] - 1s 6ms/step - loss: 0.0443 - accuracy: 0.9883 - val_loss: 0.2817 - val_accuracy: 0.9685\n",
            "Epoch 27/30\n",
            "211/211 [==============================] - 1s 6ms/step - loss: 0.0402 - accuracy: 0.9895 - val_loss: 0.2352 - val_accuracy: 0.9660\n",
            "Epoch 28/30\n",
            "211/211 [==============================] - 1s 6ms/step - loss: 0.0408 - accuracy: 0.9894 - val_loss: 0.2488 - val_accuracy: 0.9705\n",
            "Epoch 29/30\n",
            "211/211 [==============================] - 1s 6ms/step - loss: 0.0410 - accuracy: 0.9894 - val_loss: 0.2598 - val_accuracy: 0.9708\n",
            "Epoch 30/30\n",
            "211/211 [==============================] - 1s 6ms/step - loss: 0.0381 - accuracy: 0.9898 - val_loss: 0.2370 - val_accuracy: 0.9752\n"
          ]
        },
        {
          "output_type": "execute_result",
          "data": {
            "text/plain": [
              "<keras.callbacks.History at 0x7fe21432e5d0>"
            ]
          },
          "metadata": {},
          "execution_count": 25
        }
      ]
    },
    {
      "cell_type": "code",
      "source": [
        "model.evaluate(x_test, y_test)"
      ],
      "metadata": {
        "colab": {
          "base_uri": "https://localhost:8080/"
        },
        "id": "H-DqKwJzbAC5",
        "outputId": "bce3a1c0-c75e-4b72-a7ae-e221fcf13576"
      },
      "id": "H-DqKwJzbAC5",
      "execution_count": 26,
      "outputs": [
        {
          "output_type": "stream",
          "name": "stdout",
          "text": [
            "313/313 [==============================] - 1s 2ms/step - loss: 0.3162 - accuracy: 0.9708\n"
          ]
        },
        {
          "output_type": "execute_result",
          "data": {
            "text/plain": [
              "[0.3161991834640503, 0.97079998254776]"
            ]
          },
          "metadata": {},
          "execution_count": 26
        }
      ]
    },
    {
      "cell_type": "markdown",
      "id": "c01d8ee3-71fd-413f-99cd-1da9f3407351",
      "metadata": {
        "id": "c01d8ee3-71fd-413f-99cd-1da9f3407351"
      },
      "source": [
        "---"
      ]
    },
    {
      "cell_type": "code",
      "execution_count": 73,
      "id": "e0a3f169-a9a4-4caf-b873-9265491744a4",
      "metadata": {
        "id": "e0a3f169-a9a4-4caf-b873-9265491744a4",
        "outputId": "8ee28dd8-de7f-4031-eafb-c629b0c228bf",
        "colab": {
          "base_uri": "https://localhost:8080/"
        }
      },
      "outputs": [
        {
          "output_type": "execute_result",
          "data": {
            "text/plain": [
              "((60000, 28, 28), (60000,), (10000, 28, 28), (10000,))"
            ]
          },
          "metadata": {},
          "execution_count": 73
        }
      ],
      "source": [
        "from tensorflow.keras.datasets import fashion_mnist\n",
        "(x_train, y_train), (x_test, y_test) = fashion_mnist.load_data()\n",
        "x_train.shape, y_train.shape, x_test.shape, y_test.shape"
      ]
    },
    {
      "cell_type": "code",
      "execution_count": 74,
      "id": "70166bff-1e7e-4d2d-a56d-db81342ac98a",
      "metadata": {
        "id": "70166bff-1e7e-4d2d-a56d-db81342ac98a",
        "outputId": "025cee0f-51c9-43bb-83a5-4747e91f7ed1",
        "colab": {
          "base_uri": "https://localhost:8080/",
          "height": 282
        }
      },
      "outputs": [
        {
          "output_type": "execute_result",
          "data": {
            "text/plain": [
              "<matplotlib.image.AxesImage at 0x7fe20ae23a10>"
            ]
          },
          "metadata": {},
          "execution_count": 74
        },
        {
          "output_type": "display_data",
          "data": {
            "text/plain": [
              "<Figure size 432x288 with 1 Axes>"
            ],
            "image/png": "[encoded data removed]"
          },
          "metadata": {
            "needs_background": "light"
          }
        }
      ],
      "source": [
        "plt.imshow(x_train[5])"
      ]
    },
    {
      "cell_type": "markdown",
      "id": "cacd8b73-18b7-4f64-af2a-6bc61980d39c",
      "metadata": {
        "id": "cacd8b73-18b7-4f64-af2a-6bc61980d39c"
      },
      "source": [
        "### Task: Train a fully-connected neural network for Fashion-MNIST dataset and try to change the model and hyperparameters to get high accuracy"
      ]
    },
    {
      "cell_type": "code",
      "execution_count": 75,
      "id": "acf10145-660c-4c89-9c35-d70ab360f741",
      "metadata": {
        "id": "acf10145-660c-4c89-9c35-d70ab360f741"
      },
      "outputs": [],
      "source": [
        "from tensorflow.keras.layers import Dense, Flatten\n",
        "model = tf.keras.Sequential()\n",
        "model.add(tf.keras.Input(shape=(28,28,1)))\n",
        "model.add(Flatten())\n",
        "model.add(Dense(100, activation='relu'))\n",
        "model.add(Dense(200, activation='relu'))\n",
        "model.add(Dense(100, activation='relu'))\n",
        "model.add(Dense(50, activation='relu'))\n",
        "model.add(Dense(10, activation='softmax'))"
      ]
    },
    {
      "cell_type": "code",
      "source": [
        "model.summary()"
      ],
      "metadata": {
        "id": "z2DgGtvipg5o",
        "outputId": "7430ee9c-47ca-4fe9-e3e6-c17ced4a26c3",
        "colab": {
          "base_uri": "https://localhost:8080/"
        }
      },
      "id": "z2DgGtvipg5o",
      "execution_count": 76,
      "outputs": [
        {
          "output_type": "stream",
          "name": "stdout",
          "text": [
            "Model: \"sequential_11\"\n",
            "_________________________________________________________________\n",
            " Layer (type)                Output Shape              Param #   \n",
            "=================================================================\n",
            " flatten_10 (Flatten)        (None, 784)               0         \n",
            "                                                                 \n",
            " dense_49 (Dense)            (None, 100)               78500     \n",
            "                                                                 \n",
            " dense_50 (Dense)            (None, 200)               20200     \n",
            "                                                                 \n",
            " dense_51 (Dense)            (None, 100)               20100     \n",
            "                                                                 \n",
            " dense_52 (Dense)            (None, 50)                5050      \n",
            "                                                                 \n",
            " dense_53 (Dense)            (None, 10)                510       \n",
            "                                                                 \n",
            "=================================================================\n",
            "Total params: 124,360\n",
            "Trainable params: 124,360\n",
            "Non-trainable params: 0\n",
            "_________________________________________________________________\n"
          ]
        }
      ]
    },
    {
      "cell_type": "code",
      "source": [
        "model.compile(loss='sparse_categorical_crossentropy', metrics=['accuracy'])"
      ],
      "metadata": {
        "id": "Gz6_bJ-DpkUP"
      },
      "id": "Gz6_bJ-DpkUP",
      "execution_count": 77,
      "outputs": []
    },
    {
      "cell_type": "code",
      "source": [
        "model.fit(x_train, y_train, batch_size=256, epochs=30, validation_split=0.1)"
      ],
      "metadata": {
        "id": "G-Z_SzzaplEe",
        "outputId": "75e3e026-f3e8-4070-fe63-1e78dcd7e52c",
        "colab": {
          "base_uri": "https://localhost:8080/"
        }
      },
      "id": "G-Z_SzzaplEe",
      "execution_count": 78,
      "outputs": [
        {
          "output_type": "stream",
          "name": "stdout",
          "text": [
            "Epoch 1/30\n",
            "211/211 [==============================] - 3s 9ms/step - loss: 3.2264 - accuracy: 0.6654 - val_loss: 0.8032 - val_accuracy: 0.7265\n",
            "Epoch 2/30\n",
            "211/211 [==============================] - 2s 9ms/step - loss: 0.5958 - accuracy: 0.7892 - val_loss: 0.4917 - val_accuracy: 0.8307\n",
            "Epoch 3/30\n",
            "211/211 [==============================] - 2s 8ms/step - loss: 0.4881 - accuracy: 0.8267 - val_loss: 0.4451 - val_accuracy: 0.8408\n",
            "Epoch 4/30\n",
            "211/211 [==============================] - 2s 9ms/step - loss: 0.4314 - accuracy: 0.8430 - val_loss: 0.4428 - val_accuracy: 0.8445\n",
            "Epoch 5/30\n",
            "211/211 [==============================] - 2s 8ms/step - loss: 0.3986 - accuracy: 0.8567 - val_loss: 0.3812 - val_accuracy: 0.8642\n",
            "Epoch 6/30\n",
            "211/211 [==============================] - 2s 8ms/step - loss: 0.3720 - accuracy: 0.8649 - val_loss: 0.3943 - val_accuracy: 0.8595\n",
            "Epoch 7/30\n",
            "211/211 [==============================] - 2s 8ms/step - loss: 0.3595 - accuracy: 0.8693 - val_loss: 0.4281 - val_accuracy: 0.8677\n",
            "Epoch 8/30\n",
            "211/211 [==============================] - 2s 9ms/step - loss: 0.3472 - accuracy: 0.8744 - val_loss: 0.3777 - val_accuracy: 0.8695\n",
            "Epoch 9/30\n",
            "211/211 [==============================] - 2s 9ms/step - loss: 0.3335 - accuracy: 0.8798 - val_loss: 0.4011 - val_accuracy: 0.8695\n",
            "Epoch 10/30\n",
            "211/211 [==============================] - 2s 9ms/step - loss: 0.3217 - accuracy: 0.8830 - val_loss: 0.4144 - val_accuracy: 0.8660\n",
            "Epoch 11/30\n",
            "211/211 [==============================] - 2s 9ms/step - loss: 0.3157 - accuracy: 0.8856 - val_loss: 0.4389 - val_accuracy: 0.8642\n",
            "Epoch 12/30\n",
            "211/211 [==============================] - 2s 8ms/step - loss: 0.3126 - accuracy: 0.8876 - val_loss: 0.3922 - val_accuracy: 0.8733\n",
            "Epoch 13/30\n",
            "211/211 [==============================] - 2s 9ms/step - loss: 0.3067 - accuracy: 0.8899 - val_loss: 0.4252 - val_accuracy: 0.8658\n",
            "Epoch 14/30\n",
            "211/211 [==============================] - 2s 8ms/step - loss: 0.2970 - accuracy: 0.8922 - val_loss: 0.4715 - val_accuracy: 0.8642\n",
            "Epoch 15/30\n",
            "211/211 [==============================] - 2s 9ms/step - loss: 0.2971 - accuracy: 0.8943 - val_loss: 0.4895 - val_accuracy: 0.8638\n",
            "Epoch 16/30\n",
            "211/211 [==============================] - 2s 8ms/step - loss: 0.2923 - accuracy: 0.8963 - val_loss: 0.4448 - val_accuracy: 0.8785\n",
            "Epoch 17/30\n",
            "211/211 [==============================] - 2s 8ms/step - loss: 0.2963 - accuracy: 0.8964 - val_loss: 0.4819 - val_accuracy: 0.8625\n",
            "Epoch 18/30\n",
            "211/211 [==============================] - 2s 9ms/step - loss: 0.2871 - accuracy: 0.8979 - val_loss: 0.5889 - val_accuracy: 0.8700\n",
            "Epoch 19/30\n",
            "211/211 [==============================] - 2s 8ms/step - loss: 0.2845 - accuracy: 0.8990 - val_loss: 0.4860 - val_accuracy: 0.8787\n",
            "Epoch 20/30\n",
            "211/211 [==============================] - 2s 9ms/step - loss: 0.2760 - accuracy: 0.9009 - val_loss: 0.5788 - val_accuracy: 0.8775\n",
            "Epoch 21/30\n",
            "211/211 [==============================] - 2s 9ms/step - loss: 0.2771 - accuracy: 0.9026 - val_loss: 0.5544 - val_accuracy: 0.8775\n",
            "Epoch 22/30\n",
            "211/211 [==============================] - 2s 9ms/step - loss: 0.2739 - accuracy: 0.9027 - val_loss: 0.4858 - val_accuracy: 0.8777\n",
            "Epoch 23/30\n",
            "211/211 [==============================] - 2s 8ms/step - loss: 0.2760 - accuracy: 0.9036 - val_loss: 0.5302 - val_accuracy: 0.8693\n",
            "Epoch 24/30\n",
            "211/211 [==============================] - 2s 8ms/step - loss: 0.2683 - accuracy: 0.9046 - val_loss: 0.5138 - val_accuracy: 0.8760\n",
            "Epoch 25/30\n",
            "211/211 [==============================] - 2s 9ms/step - loss: 0.2630 - accuracy: 0.9060 - val_loss: 0.6130 - val_accuracy: 0.8597\n",
            "Epoch 26/30\n",
            "211/211 [==============================] - 2s 8ms/step - loss: 0.2681 - accuracy: 0.9075 - val_loss: 0.5246 - val_accuracy: 0.8812\n",
            "Epoch 27/30\n",
            "211/211 [==============================] - 2s 8ms/step - loss: 0.2661 - accuracy: 0.9080 - val_loss: 0.6010 - val_accuracy: 0.8797\n",
            "Epoch 28/30\n",
            "211/211 [==============================] - 2s 9ms/step - loss: 0.2596 - accuracy: 0.9083 - val_loss: 0.6797 - val_accuracy: 0.8782\n",
            "Epoch 29/30\n",
            "211/211 [==============================] - 2s 9ms/step - loss: 0.2681 - accuracy: 0.9085 - val_loss: 0.6271 - val_accuracy: 0.8787\n",
            "Epoch 30/30\n",
            "211/211 [==============================] - 2s 9ms/step - loss: 0.2618 - accuracy: 0.9095 - val_loss: 0.5237 - val_accuracy: 0.8738\n"
          ]
        },
        {
          "output_type": "execute_result",
          "data": {
            "text/plain": [
              "<keras.callbacks.History at 0x7fe212937ad0>"
            ]
          },
          "metadata": {},
          "execution_count": 78
        }
      ]
    },
    {
      "cell_type": "code",
      "source": [
        "model.evaluate(x_test, y_test)"
      ],
      "metadata": {
        "id": "af2LzHrsprAw",
        "outputId": "4425d3bb-2105-4775-b6d0-79fc50786978",
        "colab": {
          "base_uri": "https://localhost:8080/"
        }
      },
      "id": "af2LzHrsprAw",
      "execution_count": 79,
      "outputs": [
        {
          "output_type": "stream",
          "name": "stdout",
          "text": [
            "313/313 [==============================] - 1s 2ms/step - loss: 0.6745 - accuracy: 0.8724\n"
          ]
        },
        {
          "output_type": "execute_result",
          "data": {
            "text/plain": [
              "[0.6745434403419495, 0.8723999857902527]"
            ]
          },
          "metadata": {},
          "execution_count": 79
        }
      ]
    },
    {
      "cell_type": "code",
      "source": [
        ""
      ],
      "metadata": {
        "id": "mXVi5ezLmxXu"
      },
      "id": "mXVi5ezLmxXu",
      "execution_count": null,
      "outputs": []
    }
  ],
  "metadata": {
    "kernelspec": {
      "display_name": "Python 3",
      "language": "python",
      "name": "python3"
    },
    "language_info": {
      "codemirror_mode": {
        "name": "ipython",
        "version": 3
      },
      "file_extension": ".py",
      "mimetype": "text/x-python",
      "name": "python",
      "nbconvert_exporter": "python",
      "pygments_lexer": "ipython3",
      "version": "3.6.7"
    },
    "colab": {
      "name": "nn_solution.ipynb",
      "provenance": []
    }
  },
  "nbformat": 4,
  "nbformat_minor": 5
}
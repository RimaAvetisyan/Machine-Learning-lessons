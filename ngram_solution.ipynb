{
 "cells": [
  {
   "cell_type": "code",
   "execution_count": 64,
   "id": "9caa7240-c069-47b5-ba4c-643d705c4a8f",
   "metadata": {
    "colab": {
     "base_uri": "https://localhost:8080/"
    },
    "id": "9caa7240-c069-47b5-ba4c-643d705c4a8f",
    "outputId": "9d540cd8-3bfa-482a-db28-d3682a4db717",
    "tags": []
   },
   "outputs": [
    {
     "name": "stdout",
     "output_type": "stream",
     "text": [
      "Requirement already satisfied: nltk in c:\\users\\default.laptop-meq8135q\\pycharmprojects\\pythonproject1\\venv\\lib\\site-packages (3.6.7)\n",
      "Requirement already satisfied: click in c:\\users\\default.laptop-meq8135q\\pycharmprojects\\pythonproject1\\venv\\lib\\site-packages (from nltk) (8.0.4)\n",
      "Requirement already satisfied: joblib in c:\\users\\default.laptop-meq8135q\\pycharmprojects\\pythonproject1\\venv\\lib\\site-packages (from nltk) (1.1.0)\n",
      "Requirement already satisfied: regex>=2021.8.3 in c:\\users\\default.laptop-meq8135q\\pycharmprojects\\pythonproject1\\venv\\lib\\site-packages (from nltk) (2022.1.18)\n",
      "Requirement already satisfied: tqdm in c:\\users\\default.laptop-meq8135q\\pycharmprojects\\pythonproject1\\venv\\lib\\site-packages (from nltk) (4.62.3)\n",
      "Requirement already satisfied: colorama in c:\\users\\default.laptop-meq8135q\\pycharmprojects\\pythonproject1\\venv\\lib\\site-packages (from click->nltk) (0.4.4)\n",
      "Requirement already satisfied: importlib-metadata in c:\\users\\default.laptop-meq8135q\\pycharmprojects\\pythonproject1\\venv\\lib\\site-packages (from click->nltk) (4.8.3)\n",
      "Requirement already satisfied: zipp>=0.5 in c:\\users\\default.laptop-meq8135q\\pycharmprojects\\pythonproject1\\venv\\lib\\site-packages (from importlib-metadata->click->nltk) (3.6.0)\n",
      "Requirement already satisfied: typing-extensions>=3.6.4 in c:\\users\\default.laptop-meq8135q\\pycharmprojects\\pythonproject1\\venv\\lib\\site-packages (from importlib-metadata->click->nltk) (4.0.1)\n"
     ]
    },
    {
     "name": "stderr",
     "output_type": "stream",
     "text": [
      "WARNING: You are using pip version 21.1.2; however, version 21.3.1 is available.\n",
      "You should consider upgrading via the 'C:\\Users\\default.LAPTOP-MEQ8135Q\\PycharmProjects\\pythonProject1\\venv\\Scripts\\python.exe -m pip install --upgrade pip' command.\n"
     ]
    }
   ],
   "source": [
    "!pip install nltk"
   ]
  },
  {
   "cell_type": "code",
   "execution_count": 65,
   "id": "22c867f4-d05f-406a-9a86-e220bd92e2df",
   "metadata": {
    "colab": {
     "base_uri": "https://localhost:8080/"
    },
    "id": "22c867f4-d05f-406a-9a86-e220bd92e2df",
    "outputId": "62152375-6981-4f2e-c0f3-d338ad726abd"
   },
   "outputs": [
    {
     "name": "stderr",
     "output_type": "stream",
     "text": [
      "[nltk_data] Downloading package punkt to C:\\Users\\default.LAPTOP-\n",
      "[nltk_data]     MEQ8135Q\\AppData\\Roaming\\nltk_data...\n",
      "[nltk_data]   Package punkt is already up-to-date!\n"
     ]
    }
   ],
   "source": [
    "import nltk\n",
    "nltk.download('punkt') \n",
    "from nltk import word_tokenize\n",
    "from nltk.util import ngrams\n",
    "from collections import Counter"
   ]
  },
  {
   "cell_type": "code",
   "execution_count": 66,
   "id": "486e3bb5-b8a2-4a01-b33d-071e7d00e9a4",
   "metadata": {
    "colab": {
     "base_uri": "https://localhost:8080/"
    },
    "id": "486e3bb5-b8a2-4a01-b33d-071e7d00e9a4",
    "outputId": "a61ce0eb-8e81-41a0-c46e-a7a7b7466959"
   },
   "outputs": [
    {
     "data": {
      "text/plain": [
       "['WARNING',\n",
       " ':',\n",
       " 'You',\n",
       " 'are',\n",
       " 'using',\n",
       " 'pip',\n",
       " 'version',\n",
       " '21.1.2',\n",
       " ';',\n",
       " 'however',\n",
       " ',',\n",
       " 'version',\n",
       " '21.3.1',\n",
       " 'is',\n",
       " 'available',\n",
       " '.']"
      ]
     },
     "execution_count": 66,
     "metadata": {},
     "output_type": "execute_result"
    }
   ],
   "source": [
    "word_tokenize('WARNING: You are using pip version 21.1.2; however, version 21.3.1 is available.')"
   ]
  },
  {
   "cell_type": "code",
   "execution_count": 67,
   "id": "274368bd-e048-4642-84f8-1249ed0b9efa",
   "metadata": {
    "id": "274368bd-e048-4642-84f8-1249ed0b9efa"
   },
   "outputs": [],
   "source": [
    "text = \"\"\"I am going to change. I am\"\"\"\n",
    "tokens = nltk.word_tokenize(text)\n",
    "unigrams = ngrams(tokens, 1)\n",
    "bigrams = ngrams(tokens, 2)\n",
    "trigrams = ngrams(tokens, 3)\n",
    "fourgrams = ngrams(tokens, 4)\n",
    "fivegrams = ngrams(tokens, 5)"
   ]
  },
  {
   "cell_type": "code",
   "execution_count": 68,
   "id": "49d1ac20-7958-44c9-a55a-9c404b20b1f8",
   "metadata": {
    "colab": {
     "base_uri": "https://localhost:8080/"
    },
    "id": "49d1ac20-7958-44c9-a55a-9c404b20b1f8",
    "outputId": "a1349ec4-8681-4864-cac8-55fea34e0de0"
   },
   "outputs": [
    {
     "data": {
      "text/plain": [
       "[('I',), ('am',), ('going',), ('to',), ('change',), ('.',), ('I',), ('am',)]"
      ]
     },
     "execution_count": 68,
     "metadata": {},
     "output_type": "execute_result"
    }
   ],
   "source": [
    "list(unigrams)"
   ]
  },
  {
   "cell_type": "code",
   "execution_count": 69,
   "id": "6a673373-749f-40b7-814e-11ba040b4dbd",
   "metadata": {
    "colab": {
     "base_uri": "https://localhost:8080/"
    },
    "id": "6a673373-749f-40b7-814e-11ba040b4dbd",
    "outputId": "1a39c9f5-a750-4aee-89e1-accc942413c5"
   },
   "outputs": [
    {
     "data": {
      "text/plain": [
       "[('I', 'am'),\n",
       " ('am', 'going'),\n",
       " ('going', 'to'),\n",
       " ('to', 'change'),\n",
       " ('change', '.'),\n",
       " ('.', 'I'),\n",
       " ('I', 'am')]"
      ]
     },
     "execution_count": 69,
     "metadata": {},
     "output_type": "execute_result"
    }
   ],
   "source": [
    "list(bigrams)"
   ]
  },
  {
   "cell_type": "code",
   "execution_count": 70,
   "id": "223b764c-57a5-4a2d-bec5-da7b496b8ac3",
   "metadata": {
    "colab": {
     "base_uri": "https://localhost:8080/"
    },
    "id": "223b764c-57a5-4a2d-bec5-da7b496b8ac3",
    "outputId": "032851fd-8bb8-4a62-9337-e49f60d65e06"
   },
   "outputs": [
    {
     "data": {
      "text/plain": [
       "[('I', 'am', 'going', 'to', 'change'),\n",
       " ('am', 'going', 'to', 'change', '.'),\n",
       " ('going', 'to', 'change', '.', 'I'),\n",
       " ('to', 'change', '.', 'I', 'am')]"
      ]
     },
     "execution_count": 70,
     "metadata": {},
     "output_type": "execute_result"
    }
   ],
   "source": [
    "list(fivegrams)"
   ]
  },
  {
   "cell_type": "code",
   "execution_count": 71,
   "id": "cca3af47-2503-4a90-992e-01f9947e9b0c",
   "metadata": {
    "colab": {
     "base_uri": "https://localhost:8080/"
    },
    "id": "cca3af47-2503-4a90-992e-01f9947e9b0c",
    "outputId": "0ade8b10-d4e3-4ca8-f587-33cf2af4a5d2"
   },
   "outputs": [
    {
     "data": {
      "text/plain": [
       "[]"
      ]
     },
     "execution_count": 71,
     "metadata": {},
     "output_type": "execute_result"
    }
   ],
   "source": [
    "list(unigrams)"
   ]
  },
  {
   "cell_type": "code",
   "execution_count": 72,
   "id": "25d7f4d8-df10-4ec6-8514-3c7208334537",
   "metadata": {
    "colab": {
     "base_uri": "https://localhost:8080/"
    },
    "id": "25d7f4d8-df10-4ec6-8514-3c7208334537",
    "outputId": "affb1885-749a-411f-854a-c8ed717f6431"
   },
   "outputs": [
    {
     "data": {
      "text/plain": [
       "[]"
      ]
     },
     "execution_count": 72,
     "metadata": {},
     "output_type": "execute_result"
    }
   ],
   "source": [
    "list(bigrams)"
   ]
  },
  {
   "cell_type": "code",
   "execution_count": 73,
   "id": "5c012f5b-dbc0-4c9c-be8c-e2fee05972c3",
   "metadata": {
    "id": "5c012f5b-dbc0-4c9c-be8c-e2fee05972c3"
   },
   "outputs": [],
   "source": [
    "text = \"\"\"I am going to change. I am\"\"\"\n",
    "tokens = nltk.word_tokenize(text)\n",
    "unigrams = list(ngrams(tokens, 1))\n",
    "bigrams = list(ngrams(tokens, 2))\n",
    "trigrams = list(ngrams(tokens, 3))\n",
    "fourgrams = list(ngrams(tokens, 4))\n",
    "fivegrams = list(ngrams(tokens, 5))"
   ]
  },
  {
   "cell_type": "code",
   "execution_count": 74,
   "id": "71aaa6f4-9845-4685-892a-58735317cef3",
   "metadata": {
    "colab": {
     "base_uri": "https://localhost:8080/"
    },
    "id": "71aaa6f4-9845-4685-892a-58735317cef3",
    "outputId": "19f5c538-cc01-4d11-d591-38b40a76b0d7"
   },
   "outputs": [
    {
     "data": {
      "text/plain": [
       "[('I', 'am'),\n",
       " ('am', 'going'),\n",
       " ('going', 'to'),\n",
       " ('to', 'change'),\n",
       " ('change', '.'),\n",
       " ('.', 'I'),\n",
       " ('I', 'am')]"
      ]
     },
     "execution_count": 74,
     "metadata": {},
     "output_type": "execute_result"
    }
   ],
   "source": [
    "bigrams"
   ]
  },
  {
   "cell_type": "code",
   "execution_count": 75,
   "id": "eae2bce0-9785-4a48-ba65-34fa3443f78b",
   "metadata": {
    "id": "eae2bce0-9785-4a48-ba65-34fa3443f78b"
   },
   "outputs": [],
   "source": [
    "unigrams = Counter(ngrams(tokens, 1))"
   ]
  },
  {
   "cell_type": "code",
   "execution_count": 76,
   "id": "f69bbf44-6125-4149-bae8-f4414a689f30",
   "metadata": {
    "colab": {
     "base_uri": "https://localhost:8080/"
    },
    "id": "f69bbf44-6125-4149-bae8-f4414a689f30",
    "outputId": "878c39b4-4441-4749-f615-a0d2a25af4e6"
   },
   "outputs": [
    {
     "data": {
      "text/plain": [
       "Counter({('I',): 2,\n",
       "         ('am',): 2,\n",
       "         ('going',): 1,\n",
       "         ('to',): 1,\n",
       "         ('change',): 1,\n",
       "         ('.',): 1})"
      ]
     },
     "execution_count": 76,
     "metadata": {},
     "output_type": "execute_result"
    }
   ],
   "source": [
    "unigrams"
   ]
  },
  {
   "cell_type": "code",
   "execution_count": 77,
   "id": "ac3204b5-c69b-4af3-8759-7da7c01d6e1f",
   "metadata": {
    "colab": {
     "base_uri": "https://localhost:8080/"
    },
    "id": "ac3204b5-c69b-4af3-8759-7da7c01d6e1f",
    "outputId": "96634093-9343-475f-e4b9-335d60f8c0a8"
   },
   "outputs": [
    {
     "data": {
      "text/plain": [
       "2"
      ]
     },
     "execution_count": 77,
     "metadata": {},
     "output_type": "execute_result"
    }
   ],
   "source": [
    "unigrams[('I',)]"
   ]
  },
  {
   "cell_type": "code",
   "execution_count": 78,
   "id": "ce123e73-d35a-49b5-a94d-0c3b11302e12",
   "metadata": {
    "id": "ce123e73-d35a-49b5-a94d-0c3b11302e12"
   },
   "outputs": [],
   "source": [
    "bigrams = Counter(ngrams(tokens, 2))"
   ]
  },
  {
   "cell_type": "code",
   "execution_count": 79,
   "id": "e093074b-ac62-430c-9b21-bf1eb7d44229",
   "metadata": {
    "colab": {
     "base_uri": "https://localhost:8080/"
    },
    "id": "e093074b-ac62-430c-9b21-bf1eb7d44229",
    "outputId": "dad2035c-ff78-4200-af43-b09d62f89e62"
   },
   "outputs": [
    {
     "data": {
      "text/plain": [
       "Counter({('I', 'am'): 2,\n",
       "         ('am', 'going'): 1,\n",
       "         ('going', 'to'): 1,\n",
       "         ('to', 'change'): 1,\n",
       "         ('change', '.'): 1,\n",
       "         ('.', 'I'): 1})"
      ]
     },
     "execution_count": 79,
     "metadata": {},
     "output_type": "execute_result"
    }
   ],
   "source": [
    "bigrams"
   ]
  },
  {
   "cell_type": "code",
   "execution_count": 80,
   "id": "65b3ddc7-9ddf-4c9f-91af-195b721204dd",
   "metadata": {
    "colab": {
     "base_uri": "https://localhost:8080/"
    },
    "id": "65b3ddc7-9ddf-4c9f-91af-195b721204dd",
    "outputId": "739b29ff-7061-4d80-ff1d-c9018121251c"
   },
   "outputs": [
    {
     "data": {
      "text/plain": [
       "2"
      ]
     },
     "execution_count": 80,
     "metadata": {},
     "output_type": "execute_result"
    }
   ],
   "source": [
    "bigrams[('I', 'am')]"
   ]
  },
  {
   "cell_type": "code",
   "execution_count": 81,
   "id": "e2fb632f-0190-4fac-ab4b-1484350695c4",
   "metadata": {
    "colab": {
     "base_uri": "https://localhost:8080/"
    },
    "id": "e2fb632f-0190-4fac-ab4b-1484350695c4",
    "outputId": "d28aac2b-7f72-4917-e1aa-d71f03e5f868"
   },
   "outputs": [
    {
     "data": {
      "text/plain": [
       "0"
      ]
     },
     "execution_count": 81,
     "metadata": {},
     "output_type": "execute_result"
    }
   ],
   "source": [
    "bigrams[('aaa', 'bbb')]"
   ]
  },
  {
   "cell_type": "markdown",
   "id": "f0226063-7c78-41a6-8df9-f993a713dabe",
   "metadata": {
    "id": "f0226063-7c78-41a6-8df9-f993a713dabe"
   },
   "source": [
    "---"
   ]
  },
  {
   "cell_type": "code",
   "execution_count": 82,
   "id": "380dfbe8-3081-4615-a23d-9a996c5774bb",
   "metadata": {
    "colab": {
     "base_uri": "https://localhost:8080/"
    },
    "id": "380dfbe8-3081-4615-a23d-9a996c5774bb",
    "outputId": "fa846ef1-9ef7-4a60-8cb2-52a8dbdbfbaf"
   },
   "outputs": [
    {
     "name": "stdout",
     "output_type": "stream",
     "text": [
      "[('I', 'am'), ('am', 'going'), ('going', 'to'), ('to', 'change'), ('change', '.'), ('.', 'I'), ('I', 'am')]\n",
      "--------------------------------------------------\n",
      "[('I', 'am', 'going'), ('am', 'going', 'to'), ('going', 'to', 'change'), ('to', 'change', '.'), ('change', '.', 'I'), ('.', 'I', 'am')]\n",
      "--------------------------------------------------\n",
      "[('I',), ('I', 'am'), ('I', 'am', 'going'), ('I', 'am', 'going', 'to'), ('I', 'am', 'going', 'to', 'change'), ('I', 'am', 'going', 'to', 'change', '.'), ('I', 'am', 'going', 'to', 'change', '.', 'I'), ('I', 'am', 'going', 'to', 'change', '.', 'I', 'am'), ('am',), ('am', 'going'), ('am', 'going', 'to'), ('am', 'going', 'to', 'change'), ('am', 'going', 'to', 'change', '.'), ('am', 'going', 'to', 'change', '.', 'I'), ('am', 'going', 'to', 'change', '.', 'I', 'am'), ('going',), ('going', 'to'), ('going', 'to', 'change'), ('going', 'to', 'change', '.'), ('going', 'to', 'change', '.', 'I'), ('going', 'to', 'change', '.', 'I', 'am'), ('to',), ('to', 'change'), ('to', 'change', '.'), ('to', 'change', '.', 'I'), ('to', 'change', '.', 'I', 'am'), ('change',), ('change', '.'), ('change', '.', 'I'), ('change', '.', 'I', 'am'), ('.',), ('.', 'I'), ('.', 'I', 'am'), ('I',), ('I', 'am'), ('am',)]\n"
     ]
    }
   ],
   "source": [
    "from nltk.util import everygrams, trigrams, bigrams\n",
    "print(list(bigrams(tokens)))\n",
    "print('-'*50)\n",
    "print(list(trigrams(tokens)))\n",
    "print('-'*50)\n",
    "print(list(everygrams(tokens)))"
   ]
  },
  {
   "cell_type": "markdown",
   "id": "852206a2-3d87-4ec5-a66c-89cdef0e0dd4",
   "metadata": {
    "id": "852206a2-3d87-4ec5-a66c-89cdef0e0dd4"
   },
   "source": [
    "---"
   ]
  },
  {
   "cell_type": "code",
   "execution_count": 83,
   "id": "90c0500d-122b-488c-9527-036e0790167b",
   "metadata": {
    "colab": {
     "base_uri": "https://localhost:8080/"
    },
    "id": "90c0500d-122b-488c-9527-036e0790167b",
    "outputId": "ed1d5fb4-3289-41cf-97a8-4efbab034556"
   },
   "outputs": [
    {
     "name": "stderr",
     "output_type": "stream",
     "text": [
      "[nltk_data] Downloading package inaugural to C:\\Users\\default.LAPTOP-\n",
      "[nltk_data]     MEQ8135Q\\AppData\\Roaming\\nltk_data...\n",
      "[nltk_data]   Package inaugural is already up-to-date!\n"
     ]
    },
    {
     "data": {
      "text/plain": [
       "True"
      ]
     },
     "execution_count": 83,
     "metadata": {},
     "output_type": "execute_result"
    }
   ],
   "source": [
    "from nltk.corpus import inaugural\n",
    "nltk.download('inaugural')"
   ]
  },
  {
   "cell_type": "code",
   "execution_count": 84,
   "id": "e869ea99-3355-43b6-8149-45928257c5a2",
   "metadata": {
    "colab": {
     "base_uri": "https://localhost:8080/"
    },
    "id": "e869ea99-3355-43b6-8149-45928257c5a2",
    "outputId": "d5a9535a-571e-4e3c-d5ef-e28234cb6f3a"
   },
   "outputs": [
    {
     "data": {
      "text/plain": [
       "['1789-Washington.txt',\n",
       " '1793-Washington.txt',\n",
       " '1797-Adams.txt',\n",
       " '1801-Jefferson.txt',\n",
       " '1805-Jefferson.txt',\n",
       " '1809-Madison.txt',\n",
       " '1813-Madison.txt',\n",
       " '1817-Monroe.txt',\n",
       " '1821-Monroe.txt',\n",
       " '1825-Adams.txt',\n",
       " '1829-Jackson.txt',\n",
       " '1833-Jackson.txt',\n",
       " '1837-VanBuren.txt',\n",
       " '1841-Harrison.txt',\n",
       " '1845-Polk.txt',\n",
       " '1849-Taylor.txt',\n",
       " '1853-Pierce.txt',\n",
       " '1857-Buchanan.txt',\n",
       " '1861-Lincoln.txt',\n",
       " '1865-Lincoln.txt',\n",
       " '1869-Grant.txt',\n",
       " '1873-Grant.txt',\n",
       " '1877-Hayes.txt',\n",
       " '1881-Garfield.txt',\n",
       " '1885-Cleveland.txt',\n",
       " '1889-Harrison.txt',\n",
       " '1893-Cleveland.txt',\n",
       " '1897-McKinley.txt',\n",
       " '1901-McKinley.txt',\n",
       " '1905-Roosevelt.txt',\n",
       " '1909-Taft.txt',\n",
       " '1913-Wilson.txt',\n",
       " '1917-Wilson.txt',\n",
       " '1921-Harding.txt',\n",
       " '1925-Coolidge.txt',\n",
       " '1929-Hoover.txt',\n",
       " '1933-Roosevelt.txt',\n",
       " '1937-Roosevelt.txt',\n",
       " '1941-Roosevelt.txt',\n",
       " '1945-Roosevelt.txt',\n",
       " '1949-Truman.txt',\n",
       " '1953-Eisenhower.txt',\n",
       " '1957-Eisenhower.txt',\n",
       " '1961-Kennedy.txt',\n",
       " '1965-Johnson.txt',\n",
       " '1969-Nixon.txt',\n",
       " '1973-Nixon.txt',\n",
       " '1977-Carter.txt',\n",
       " '1981-Reagan.txt',\n",
       " '1985-Reagan.txt',\n",
       " '1989-Bush.txt',\n",
       " '1993-Clinton.txt',\n",
       " '1997-Clinton.txt',\n",
       " '2001-Bush.txt',\n",
       " '2005-Bush.txt',\n",
       " '2009-Obama.txt',\n",
       " '2013-Obama.txt',\n",
       " '2017-Trump.txt',\n",
       " '2021-Biden.txt']"
      ]
     },
     "execution_count": 84,
     "metadata": {},
     "output_type": "execute_result"
    }
   ],
   "source": [
    "inaugural.fileids()"
   ]
  },
  {
   "cell_type": "code",
   "execution_count": 85,
   "id": "5f3b97cc-71c8-4732-b62a-69b8f4de3705",
   "metadata": {
    "colab": {
     "base_uri": "https://localhost:8080/"
    },
    "id": "5f3b97cc-71c8-4732-b62a-69b8f4de3705",
    "outputId": "a7a15cb5-3d3a-49dc-edbc-a1ee3b55717a",
    "tags": []
   },
   "outputs": [
    {
     "name": "stdout",
     "output_type": "stream",
     "text": [
      "Chief Justice Roberts, Vice President Harris, Speaker Pelosi, Leader Schumer, Leader McConnell, Vice President Pence, and my distinguished guests, and my fellow Americans: This is America's day. This is democracy's day, a day of history and hope, of renewal and resolve. Through a crucible for the ages America has been tested anew, and America has risen to the challenge.\n",
      "\n",
      "Today we celebrate the triumph not of a candidate, but of a cause, the cause of democracy. The peopleâthe will of the people has been heard, and the will of the people has been heeded. We've learned again that democracy is precious, democracy is fragile. And at this hour, my friends, democracy has prevailed.\n",
      "\n",
      "So now, on this hallowed ground where just a few days ago violence sought to shake the Capitol's very foundation, we come together as one Nation under God, indivisible, to carry out the peaceful transfer of power as we have for more than two centuries. As we look ahead in our uniquely American wayârestless, bold, optimisticâand set our sights on the Nation we know we can be and we must be, I thank my predecessors of both parties for their presence here today. I thank them from the bottom of my heart. And I know the resilience of our Constitution and the strength, the strength of our Nation, as does President Carter, who I spoke with last night, who cannot be with us today, but whom we salute for his lifetime of service.\n",
      "\n",
      "I have just taken the sacred oath each of these patriots have taken, the oath first sworn by George Washington. But the American story depends not on any one of us, not on some of us, but on all of us, on \"We the People,\" who seek a more perfect Union.\n",
      "\n",
      "This is a great Nation; we are good people. Over the centuries, through storm and strife, in peace and in war, we've come so far. But we still have far to go. We'll press forward with speed and urgency, for we have much to do in this winter of peril and significant possibilities: much to repair, much to restore, much to heal, much to build, and much to gain.\n",
      "\n",
      "Few people in our Nation's history have been more challenged or found a time more challenging or difficult than the time we're in now. A once-in-a-century virus that silently stalks the country has taken as many lives in one year as America lost in all of World War II. Millions of jobs have been lost; hundreds of thousands of businesses closed. A cry for racial justice some 400 years in the making moves us. The dream of justice for all will be deferred no longer. A cry for survival comes from the planet itself, a cry that can't be any more desperate or any more clear. And now, a rise of political extremism, White supremacy, domestic terrorism that we must confront and we will defeat.\n",
      "\n",
      "To overcome these challengesâto restore the soul and secure the future of Americaârequires so much more than words. It requires the most elusive of all things in a democracy: unity. Unity.\n",
      "\n",
      "In another January on New Year's Day in 1863, Abraham Lincoln signed the Emancipation Proclamation. When he put pen to paper, the President said, and I quote, \"If my name ever goes down into history it will be for this act, and my whole soul is in it.\" My whole soul is in it.\n",
      "\n",
      "Today, on this January day, my whole soul is in this: bringing America together, uniting our people, uniting our Nation. And I ask every American to join me in this cause: uniting to fight the foes we face: anger, resentment, and hatred; extremism, lawlessness, violence; disease, joblessness, and hopelessness.\n",
      "\n",
      "With unity we can do great things, important things. We can right wrongs. We can put people to work in good jobs. We can teach our children in safe schools. We can overcome the deadly virus. We can reward work and rebuild the middle class and make health care secure for all. We can deliver racial justice, and we can make America, once again, the leading force for good in the world.\n",
      "\n",
      "I know speaking of unity can sound to some like a foolish fantasy these days. I know the forces that divide us are deep and they are real. But I also know they are not new. Our history has been a constant struggle between the American ideal that we all are created equal and the harsh, ugly reality that racism, nativism, fear, demonization have long torn us apart. The battle is perennial. And victory is never assured.\n",
      "\n",
      "Through the Civil War, the Great Depression, World War, 9/11, through struggle, sacrifice, and setbacks, our \"better angels\" have always prevailed. In each of these moments, enough of usâenough of usâhave come together to carry all of us forward. And we can do that now. History, faith, and reason show the way: the way of unity.\n",
      "\n",
      "We can see each other not as adversaries, but as neighbors. We can treat each other with dignity and respect. We can join forces, stop the shouting, and lower the temperature. For without unity, there is no peace, only bitterness and fury. No progress, only exhausting outrage. No nation, only a state of chaos.\n",
      "\n",
      "This is our historic moment of crisis and challenge, and unity is the path forward. And we must meet this moment as the United States of America. If we do that, I guarantee you, we will not fail. We have never, ever, ever, ever failed in America when we have acted together.\n",
      "\n",
      "And so today, at this time, in this place, let's start afresh, all of us. Let's begin to listen to one another, hear one another, see one another, show respect to one another. Politics doesn't have to be a raging fire destroying everything in its path. Every disagreement doesn't have to be a cause for total war. And we must reject the culture in which facts themselves are manipulated and even manufactured.\n",
      "\n",
      "My fellow Americans, we have to be different than this. America has to be better than this. And I believe America is so much better than this.\n",
      "\n",
      "Just look around. Here we stand, in the shadow of the Capitol dome, as was mentioned earlier, completed amid the Civil War, when the Union itself was literally hanging in the balance. Yet we endured, we prevailed.\n",
      "\n",
      "Here we stand looking out on the great Mall where Dr. King spoke of his dream.\n",
      "\n",
      "Here we stand, where 108 years ago, at another Inaugural, thousands of protesters tried to block brave women marching for the right to vote. And today we mark the swearing-in of the first woman in American history elected to national office: Vice President Kamala Harris. Don't tell me things can't change.\n",
      "\n",
      "Here we stand across the Potomac from Arlington Cemetery, where heroes who gave the last full measure of devotion rest in eternal peace.\n",
      "\n",
      "And here we stand, just days after a riotous mob thought they could use violence to silence the will of the people, to stop the work of our democracy, to drive us from this sacred ground. It did not happen. It will never happen, not today, not tomorrow, not everânot ever.\n",
      "\n",
      "To all those who supported our campaign, I am humbled by the faith you've placed in us. To all those who did not support us, let me say this: Hear me out as we move forward. Take a measure of me and my heart. And if you still disagree, so be it. That's democracy. That's America. The right to dissent peaceably, within the guardrails of our Republic, is perhaps this Nation's greatest strength. Yet hear me clearly: Disagreement must not lead to disunion. And I pledge this to you: I will be a President for all Americansâall Americans. And I promise you, I will fight as hard for those who did not support me as for those who did.\n",
      "\n",
      "Many centuries ago, Saint Augustine, a saint of my church, wrote that a people was a multitude defined by the common objects of their loveâdefined by the common objects of their love. What are the common objects we as Americans love? That define us as Americans? I think we know: opportunity, security, liberty, dignity, respect, honor, and yes, the truth.\n",
      "\n",
      "Recent weeks and months have taught us a painful lesson. There is truth, and there are lies: lies told for power and for profit. And each of us has a duty and a responsibility, as citizens, as Americans, and especially as leadersâleaders who have pledged to honor our Constitution and protect our Nationâto defend the truth and defeat the lies.\n",
      "\n",
      "Look, I understand that many of my fellow Americans view the future with fear and trepidation. I understand they worry about their jobs. I understand, like my dad, they lay at bed at night staring at the ceiling, wondering: \"Can I keep my health care? Can I pay my mortgage?\" Thinking about their families, about what comes next. I promise you, I get it. But the answer is not to turn inward, to retreat into competing factions, distrusting those who don't look like you or worship the way you do or don't get their news from the same sources you do. We must end this uncivil war that pits red against blue, rural versus urban, conservative versus liberal. We can do this if we open our souls instead of hardening our hearts, if we show a little tolerance and humility, and if we're willing to stand in the other person's shoes, as my mom would say, just for a moment. Stand in their shoes.\n",
      "\n",
      "Because here is the thing about life: There is no accounting for what fate will deal you. Some days when you need a hand. There are other days when we're called to lend a hand. That's how it has to be. That is what we do for one another. And if we are this way, our country will be stronger, more prosperous, more ready for the future. And we can still disagree.\n",
      "\n",
      "My fellow Americans, in the work ahead of us, we're going to need each other. We need all our strength to persevere through this dark winter. We're entering what may be the toughest and deadliest period of the virus. We must set aside politics and finally face this pandemic as one Nation. One Nation. And I promise you this: As the Bible says, \"Weeping may endure for a night, but joy cometh in the morning.\" We will get through this, togetherâtogether.\n",
      "\n",
      "Look, folks, all my colleagues that I served with in the House and the Senate up here. We all understand the world is watching, watching all of us today. So here is my message to those beyond our borders: America has been tested, and we have come out stronger for it. We will repair our alliances and engage with the world once again, not to meet yesterday's challenges, but today's and tomorrow's challenges. And we'll lead not merely by the example of our power, but by the power of our example. We will be a strong and trusted partner for peace, progress, and security.\n",
      "\n",
      "Look, you all know, we have been through so much in this Nation. And, in my first act as President, I'd like to ask you to join me in a moment of silent prayer to remember all those we lost this past year to the pandemic, those 400,000 fellow Americans: moms, dads, husbands, wives, sons, daughters, friends, neighbors, and coworkers. We will honor them by becoming the people and Nation we know we can and should be.\n",
      "\n",
      "So I ask you, let's say a silent prayer for those who have lost their lives, for those they left behind, and for our country.\n",
      "\n",
      "[At this point, a moment of silence was observed.]\n",
      "\n",
      "Amen.\n",
      "\n",
      "Folks, this is a time of testing. We face an attack on our democracy and on truth, a raging virus, growing inequity, the sting of systemic racism, a climate in crisis, America's role in the world. Any one of these would be enough to challenge us in profound ways. But the fact is, we face them all at once, presenting this Nation with one of the gravest of responsibilities we've had.\n",
      "\n",
      "Now we're going to be tested. Are we going to step up? All of us? It is time for boldness, for there is so much to do. And this is certain, I promise you: We will be judged, you and I, by how we resolve these cascading crises of our era. Will we rise to the occasion, is the question. Will we master this rare and difficult hour? Will we meet our obligations and pass along a new and better world to our children? I believe we must; I'm sure you do as well. I believe we will.\n",
      "\n",
      "And when we do, we will write the next great chapter in the history of the United States of America: the American story, a story that might sound something like a song that means a lot to me. It's called \"American Anthem,\" and there's one verse that stands out, at least for me, and it goes like this:\n",
      "\n",
      "\"The work and prayers of centuries have brought us to this day\n",
      "What shall be our legacy? What will our children say? . . .\n",
      "Let me know in my heart when my days are through\n",
      "America, America, I gave my best to you.\"\n",
      "\n",
      "Let's addâlet's us add our own work and prayers to the unfolding story of our great Nation. If we do this, then when our days are through, our children and our children's children will say of us: \"They gave their best. They did their duty. They healed a broken land.\"\n",
      "\n",
      "My fellow Americans, I close today where I began, with a sacred oath. Before God and all of you I give you my word: I will always level with you. I will defend the Constitution. I will defend our democracy. I will defend America. And I will give all, all of you, keep everything youâI do, in your service, thinking not of power, but of possibilities; not of personal interest, but of the public good. And together, we shall write an American story of hope, not fear; of unity, not division; of light, not darkness. A story of decency and dignity, love and healing, greatness and goodness.\n",
      "\n",
      "May this be the story that guides us, the story that inspires us, and the story that tells ages yet to come that we answered the call of history, we met the moment; democracy and hope, truth and justice, did not die on our watch, but thrived; that America secured liberty at home and stood once again as a beacon to the world. That is what we owe our forebearers, one another, and generations to follow.\n",
      "\n",
      "So with purpose and resolve we turn to those tasks of our time, sustained by faith, driven by conviction, and devoted to one another and the country we love with all our hearts.\n",
      "\n",
      "May God bless America, and may God protect our troops. Thank you, America.\n",
      "\n"
     ]
    }
   ],
   "source": [
    "print(inaugural.raw('2021-Biden.txt'))"
   ]
  },
  {
   "cell_type": "code",
   "execution_count": 86,
   "id": "eb966bf0-9b81-4efa-8527-d08ec391c863",
   "metadata": {
    "colab": {
     "base_uri": "https://localhost:8080/"
    },
    "id": "eb966bf0-9b81-4efa-8527-d08ec391c863",
    "outputId": "02e0ba30-753a-4b23-ea80-292a1f6d0ace"
   },
   "outputs": [
    {
     "data": {
      "text/plain": [
       "[['Fellow', '-', 'Citizens', 'of', 'the', 'Senate', 'and', 'of', 'the', 'House', 'of', 'Representatives', ':'], ['Among', 'the', 'vicissitudes', 'incident', 'to', 'life', 'no', 'event', 'could', 'have', 'filled', 'me', 'with', 'greater', 'anxieties', 'than', 'that', 'of', 'which', 'the', 'notification', 'was', 'transmitted', 'by', 'your', 'order', ',', 'and', 'received', 'on', 'the', '14th', 'day', 'of', 'the', 'present', 'month', '.'], ...]"
      ]
     },
     "execution_count": 86,
     "metadata": {},
     "output_type": "execute_result"
    }
   ],
   "source": [
    "inaugural.sents()"
   ]
  },
  {
   "cell_type": "code",
   "execution_count": 87,
   "id": "76aab82a-836b-4a4b-9903-8067d67960ab",
   "metadata": {
    "colab": {
     "base_uri": "https://localhost:8080/"
    },
    "id": "76aab82a-836b-4a4b-9903-8067d67960ab",
    "outputId": "a8874196-8b2b-410f-a608-452de5243003"
   },
   "outputs": [
    {
     "data": {
      "text/plain": [
       "['Fellow', '-', 'Citizens', 'of', 'the', 'Senate', ...]"
      ]
     },
     "execution_count": 87,
     "metadata": {},
     "output_type": "execute_result"
    }
   ],
   "source": [
    "inaugural.words()"
   ]
  },
  {
   "cell_type": "code",
   "execution_count": 88,
   "id": "e6484ace-7683-42b7-8d22-ba784510d54a",
   "metadata": {
    "colab": {
     "base_uri": "https://localhost:8080/"
    },
    "id": "e6484ace-7683-42b7-8d22-ba784510d54a",
    "outputId": "5f3fc7f9-9900-44d6-aba2-395da2b3afc3"
   },
   "outputs": [
    {
     "data": {
      "text/plain": [
       "(5217, 152901)"
      ]
     },
     "execution_count": 88,
     "metadata": {},
     "output_type": "execute_result"
    }
   ],
   "source": [
    "len(inaugural.sents()), len(inaugural.words())"
   ]
  },
  {
   "cell_type": "code",
   "execution_count": 89,
   "id": "e6f1dffe-84f9-48d6-b965-d95fd4acf6a2",
   "metadata": {
    "colab": {
     "base_uri": "https://localhost:8080/"
    },
    "id": "e6f1dffe-84f9-48d6-b965-d95fd4acf6a2",
    "outputId": "e063829e-2344-47a6-8e7d-606949eea309"
   },
   "outputs": [
    {
     "data": {
      "text/plain": [
       "[['Chief', 'Justice', 'Roberts', ',', 'Vice', 'President', 'Harris', ',', 'Speaker', 'Pelosi', ',', 'Leader', 'Schumer', ',', 'Leader', 'McConnell', ',', 'Vice', 'President', 'Pence', ',', 'and', 'my', 'distinguished', 'guests', ',', 'and', 'my', 'fellow', 'Americans', ':', 'This', 'is', 'America', \"'\", 's', 'day', '.'], ['This', 'is', 'democracy', \"'\", 's', 'day', ',', 'a', 'day', 'of', 'history', 'and', 'hope', ',', 'of', 'renewal', 'and', 'resolve', '.'], ...]"
      ]
     },
     "execution_count": 89,
     "metadata": {},
     "output_type": "execute_result"
    }
   ],
   "source": [
    "inaugural.sents(fileids='2021-Biden.txt')"
   ]
  },
  {
   "cell_type": "code",
   "execution_count": 90,
   "id": "b935ad4a-a681-41d2-9021-6330a441a7d3",
   "metadata": {
    "colab": {
     "base_uri": "https://localhost:8080/"
    },
    "id": "b935ad4a-a681-41d2-9021-6330a441a7d3",
    "outputId": "a6cb16b2-bb95-4eb9-af32-3bdcaabc275b"
   },
   "outputs": [
    {
     "data": {
      "text/plain": [
       "['Chief', 'Justice', 'Roberts', ',', 'Vice', ...]"
      ]
     },
     "execution_count": 90,
     "metadata": {},
     "output_type": "execute_result"
    }
   ],
   "source": [
    "inaugural.words(fileids='2021-Biden.txt')"
   ]
  },
  {
   "cell_type": "markdown",
   "id": "e04770b6-103f-4f0e-8b01-3b95b0514852",
   "metadata": {
    "id": "e04770b6-103f-4f0e-8b01-3b95b0514852"
   },
   "source": [
    "---"
   ]
  },
  {
   "cell_type": "markdown",
   "id": "3e2e7d7f-e13e-47db-865c-193003f5a232",
   "metadata": {
    "id": "3e2e7d7f-e13e-47db-865c-193003f5a232"
   },
   "source": [
    "## Task: make autocomplete based on inaugural corpus"
   ]
  },
  {
   "cell_type": "markdown",
   "id": "499f5919-1abf-43f4-9d0d-4999456c2abf",
   "metadata": {},
   "source": [
    "### Most frequent bigram continuation"
   ]
  },
  {
   "cell_type": "code",
   "execution_count": 91,
   "id": "762c8456-37a6-4ddf-91c1-0ac73ea7056e",
   "metadata": {
    "id": "762c8456-37a6-4ddf-91c1-0ac73ea7056e"
   },
   "outputs": [],
   "source": [
    "bigrams = []\n",
    "for sentence in inaugural.sents():\n",
    "    bigrams.extend(ngrams(['<start>'] + sentence + ['<end>'], 2))"
   ]
  },
  {
   "cell_type": "code",
   "execution_count": 92,
   "id": "jijOSp749X8t",
   "metadata": {
    "colab": {
     "base_uri": "https://localhost:8080/"
    },
    "id": "jijOSp749X8t",
    "outputId": "28d90a1d-2d5e-441b-e647-6dc98db39aaa"
   },
   "outputs": [
    {
     "data": {
      "text/plain": [
       "('<start>', 'Fellow')"
      ]
     },
     "execution_count": 92,
     "metadata": {},
     "output_type": "execute_result"
    }
   ],
   "source": [
    "bigrams[0]"
   ]
  },
  {
   "cell_type": "code",
   "execution_count": 93,
   "id": "d80echqv9T5x",
   "metadata": {
    "colab": {
     "base_uri": "https://localhost:8080/"
    },
    "id": "d80echqv9T5x",
    "outputId": "b9bda633-8784-48de-a8b6-69a7ed33296d"
   },
   "outputs": [
    {
     "data": {
      "text/plain": [
       "158118"
      ]
     },
     "execution_count": 93,
     "metadata": {},
     "output_type": "execute_result"
    }
   ],
   "source": [
    "len(bigrams)"
   ]
  },
  {
   "cell_type": "code",
   "execution_count": 94,
   "id": "kGSZf5lw9JJ_",
   "metadata": {
    "id": "kGSZf5lw9JJ_"
   },
   "outputs": [],
   "source": [
    "bigrams_counts = Counter(bigrams)"
   ]
  },
  {
   "cell_type": "code",
   "execution_count": 95,
   "id": "pqGuAicG9PRM",
   "metadata": {
    "colab": {
     "base_uri": "https://localhost:8080/"
    },
    "id": "pqGuAicG9PRM",
    "outputId": "6d7262cd-437b-468e-e6cd-700b3d16211a"
   },
   "outputs": [
    {
     "data": {
      "text/plain": [
       "66838"
      ]
     },
     "execution_count": 95,
     "metadata": {},
     "output_type": "execute_result"
    }
   ],
   "source": [
    "len(bigrams_counts)"
   ]
  },
  {
   "cell_type": "code",
   "execution_count": 96,
   "id": "3JjpbWS0_7_M",
   "metadata": {
    "colab": {
     "base_uri": "https://localhost:8080/"
    },
    "id": "3JjpbWS0_7_M",
    "outputId": "f0c959a1-ba31-40ef-a5b6-b76cd9a1e2c3"
   },
   "outputs": [
    {
     "data": {
      "text/plain": [
       "[(('<start>', 'Fellow'), 21),\n",
       " (('Fellow', '-'), 7),\n",
       " (('-', 'Citizens'), 5),\n",
       " (('Citizens', 'of'), 3),\n",
       " (('of', 'the'), 1768)]"
      ]
     },
     "execution_count": 96,
     "metadata": {},
     "output_type": "execute_result"
    }
   ],
   "source": [
    "list(bigrams_counts.items())[:5]"
   ]
  },
  {
   "cell_type": "code",
   "execution_count": 97,
   "id": "M6NTsRK-_st_",
   "metadata": {
    "id": "M6NTsRK-_st_"
   },
   "outputs": [],
   "source": [
    "frequent_bigram_continuation = {}\n",
    "for bigram, count in bigrams_counts.items():\n",
    "    if count > frequent_bigram_continuation.get(bigram[0], (-1, ''))[0]:\n",
    "        frequent_bigram_continuation[bigram[0]] = (count, bigram[1])"
   ]
  },
  {
   "cell_type": "code",
   "execution_count": 98,
   "id": "ccqJs9UVDBA4",
   "metadata": {
    "colab": {
     "base_uri": "https://localhost:8080/"
    },
    "id": "ccqJs9UVDBA4",
    "outputId": "f6b59185-a341-4638-953d-dcdd9c7985ce"
   },
   "outputs": [
    {
     "data": {
      "text/plain": [
       "(16, 'people')"
      ]
     },
     "execution_count": 98,
     "metadata": {},
     "output_type": "execute_result"
    }
   ],
   "source": [
    "frequent_bigram_continuation['The']"
   ]
  },
  {
   "cell_type": "code",
   "execution_count": 99,
   "id": "dVExHy5w92qH",
   "metadata": {
    "id": "dVExHy5w92qH"
   },
   "outputs": [],
   "source": [
    "def autocomplete_bigrams(first_tokens = None, max_additional_tokens=30):\n",
    "    if first_tokens is None:\n",
    "        first_tokens = ['<start>']\n",
    "    tokens = first_tokens[:]\n",
    "    for i in range(max_additional_tokens):\n",
    "        new_token = frequent_bigram_continuation[tokens[-1]][1]\n",
    "        tokens.append(new_token)\n",
    "        if new_token == '<end>':\n",
    "            break\n",
    "    else:\n",
    "        tokens.append('<end>')\n",
    "    return tokens"
   ]
  },
  {
   "cell_type": "code",
   "execution_count": 100,
   "id": "-gtj7kDFCucC",
   "metadata": {
    "colab": {
     "base_uri": "https://localhost:8080/"
    },
    "id": "-gtj7kDFCucC",
    "outputId": "7fa3cbba-6f11-4734-c5ae-4307a8551f35"
   },
   "outputs": [
    {
     "data": {
      "text/plain": [
       "['<start>',\n",
       " 'The',\n",
       " 'people',\n",
       " ',',\n",
       " 'and',\n",
       " 'the',\n",
       " 'people',\n",
       " ',',\n",
       " 'and',\n",
       " 'the',\n",
       " 'people',\n",
       " ',',\n",
       " 'and',\n",
       " 'the',\n",
       " 'people',\n",
       " ',',\n",
       " 'and',\n",
       " 'the',\n",
       " 'people',\n",
       " ',',\n",
       " 'and',\n",
       " 'the',\n",
       " 'people',\n",
       " ',',\n",
       " 'and',\n",
       " 'the',\n",
       " 'people',\n",
       " ',',\n",
       " 'and',\n",
       " 'the',\n",
       " 'people',\n",
       " '<end>']"
      ]
     },
     "execution_count": 100,
     "metadata": {},
     "output_type": "execute_result"
    }
   ],
   "source": [
    "autocomplete_bigrams()"
   ]
  },
  {
   "cell_type": "code",
   "execution_count": 101,
   "id": "lY714zlpEgiO",
   "metadata": {
    "colab": {
     "base_uri": "https://localhost:8080/"
    },
    "id": "lY714zlpEgiO",
    "outputId": "413a206a-f25a-42d8-99eb-7414a6cf90ef"
   },
   "outputs": [
    {
     "data": {
      "text/plain": [
       "['go',\n",
       " 'forward',\n",
       " ',',\n",
       " 'and',\n",
       " 'the',\n",
       " 'people',\n",
       " ',',\n",
       " 'and',\n",
       " 'the',\n",
       " 'people',\n",
       " ',',\n",
       " 'and',\n",
       " 'the',\n",
       " 'people',\n",
       " ',',\n",
       " 'and',\n",
       " 'the',\n",
       " 'people',\n",
       " ',',\n",
       " 'and',\n",
       " 'the',\n",
       " 'people',\n",
       " ',',\n",
       " 'and',\n",
       " 'the',\n",
       " 'people',\n",
       " ',',\n",
       " 'and',\n",
       " 'the',\n",
       " 'people',\n",
       " ',',\n",
       " '<end>']"
      ]
     },
     "execution_count": 101,
     "metadata": {},
     "output_type": "execute_result"
    }
   ],
   "source": [
    "autocomplete_bigrams(['go'])"
   ]
  },
  {
   "cell_type": "markdown",
   "id": "j2mOh1eIHT6x",
   "metadata": {
    "id": "j2mOh1eIHT6x"
   },
   "source": [
    "---"
   ]
  },
  {
   "cell_type": "markdown",
   "id": "337bf9d6-0a47-4d8b-ab84-611f884f1536",
   "metadata": {},
   "source": [
    "### Most frequent trigram continuation"
   ]
  },
  {
   "cell_type": "code",
   "execution_count": 102,
   "id": "A8PM1Ho2HRGu",
   "metadata": {
    "id": "A8PM1Ho2HRGu"
   },
   "outputs": [],
   "source": [
    "trigrams = []\n",
    "for sentence in inaugural.sents():\n",
    "    trigrams.extend(ngrams(['<start>'] + sentence + ['<end>'], 3))\n",
    "trigrams_counts = Counter(trigrams)"
   ]
  },
  {
   "cell_type": "code",
   "execution_count": 103,
   "id": "_MUDtwsbHZV7",
   "metadata": {
    "id": "_MUDtwsbHZV7"
   },
   "outputs": [],
   "source": [
    "frequent_trigram_continuation = {}\n",
    "for trigram, count in trigrams_counts.items():\n",
    "    if count > frequent_trigram_continuation.get(trigram[:2], (-1, ''))[0]:\n",
    "        frequent_trigram_continuation[trigram[:2]] = (count, trigram[2])"
   ]
  },
  {
   "cell_type": "code",
   "execution_count": 104,
   "id": "5ZrjM2oSIFe9",
   "metadata": {
    "id": "5ZrjM2oSIFe9"
   },
   "outputs": [],
   "source": [
    "def autocomplete_trigrams(first_tokens = None, max_additional_tokens=30):\n",
    "    if first_tokens is None:\n",
    "        first_tokens = ['<start>']\n",
    "    tokens = first_tokens[:]\n",
    "    for i in range(max_additional_tokens):\n",
    "        if len(tokens) == 1:\n",
    "            new_token = frequent_bigram_continuation[tokens[-1]][1]\n",
    "        else:\n",
    "            new_token = frequent_trigram_continuation[tuple(tokens[-2:])][1]\n",
    "        tokens.append(new_token)\n",
    "        if new_token == '<end>':\n",
    "            break\n",
    "    else:\n",
    "        tokens.append('<end>')\n",
    "    return tokens"
   ]
  },
  {
   "cell_type": "code",
   "execution_count": 105,
   "id": "MfKHMpiGIoJR",
   "metadata": {
    "colab": {
     "base_uri": "https://localhost:8080/"
    },
    "id": "MfKHMpiGIoJR",
    "outputId": "dab57a0e-c8cb-4328-d30d-37532ec48720"
   },
   "outputs": [
    {
     "data": {
      "text/plain": [
       "(16, 'people')"
      ]
     },
     "execution_count": 105,
     "metadata": {},
     "output_type": "execute_result"
    }
   ],
   "source": [
    "frequent_trigram_continuation[('<start>', 'The')]"
   ]
  },
  {
   "cell_type": "code",
   "execution_count": 106,
   "id": "Pr-kBixcIaD7",
   "metadata": {
    "colab": {
     "base_uri": "https://localhost:8080/"
    },
    "id": "Pr-kBixcIaD7",
    "outputId": "cfd974f2-2250-4126-b03f-4d03c95ad24a"
   },
   "outputs": [
    {
     "data": {
      "text/plain": [
       "['<start>',\n",
       " 'The',\n",
       " 'people',\n",
       " 'of',\n",
       " 'the',\n",
       " 'people',\n",
       " ',',\n",
       " 'and',\n",
       " 'the',\n",
       " 'laws',\n",
       " 'of',\n",
       " 'the',\n",
       " 'people',\n",
       " ',',\n",
       " 'and',\n",
       " 'the',\n",
       " 'laws',\n",
       " 'of',\n",
       " 'the',\n",
       " 'people',\n",
       " ',',\n",
       " 'and',\n",
       " 'the',\n",
       " 'laws',\n",
       " 'of',\n",
       " 'the',\n",
       " 'people',\n",
       " ',',\n",
       " 'and',\n",
       " 'the',\n",
       " 'laws',\n",
       " '<end>']"
      ]
     },
     "execution_count": 106,
     "metadata": {},
     "output_type": "execute_result"
    }
   ],
   "source": [
    "autocomplete_trigrams()"
   ]
  },
  {
   "cell_type": "code",
   "execution_count": 107,
   "id": "1etYqEixMP3k",
   "metadata": {
    "colab": {
     "base_uri": "https://localhost:8080/"
    },
    "id": "1etYqEixMP3k",
    "outputId": "87af7fab-2638-4012-acd2-3b9159ae83ad"
   },
   "outputs": [
    {
     "data": {
      "text/plain": [
       "['<start>',\n",
       " 'Fellow',\n",
       " 'citizens',\n",
       " ',',\n",
       " 'and',\n",
       " 'the',\n",
       " 'laws',\n",
       " 'of',\n",
       " 'the',\n",
       " 'people',\n",
       " ',',\n",
       " 'and',\n",
       " 'the',\n",
       " 'laws',\n",
       " 'of',\n",
       " 'the',\n",
       " 'people',\n",
       " ',',\n",
       " 'and',\n",
       " 'the',\n",
       " 'laws',\n",
       " 'of',\n",
       " 'the',\n",
       " 'people',\n",
       " ',',\n",
       " 'and',\n",
       " 'the',\n",
       " 'laws',\n",
       " 'of',\n",
       " 'the',\n",
       " 'people',\n",
       " ',',\n",
       " '<end>']"
      ]
     },
     "execution_count": 107,
     "metadata": {},
     "output_type": "execute_result"
    }
   ],
   "source": [
    "autocomplete_trigrams(['<start>', 'Fellow'])"
   ]
  },
  {
   "cell_type": "code",
   "execution_count": 108,
   "id": "or3iGLN0Lyvd",
   "metadata": {
    "colab": {
     "base_uri": "https://localhost:8080/"
    },
    "id": "or3iGLN0Lyvd",
    "outputId": "bc2e1f00-0841-4a9e-fc0d-68fdf5e76c81"
   },
   "outputs": [
    {
     "data": {
      "text/plain": [
       "['<start>', 'There', 'is', 'no', 'longer', '.', '<end>']"
      ]
     },
     "execution_count": 108,
     "metadata": {},
     "output_type": "execute_result"
    }
   ],
   "source": [
    "autocomplete_trigrams(['<start>', 'There'])"
   ]
  },
  {
   "cell_type": "markdown",
   "id": "aROSLof11anR",
   "metadata": {
    "id": "aROSLof11anR"
   },
   "source": [
    "---"
   ]
  },
  {
   "cell_type": "markdown",
   "id": "59a225b4-efb9-49e2-b317-906289b67073",
   "metadata": {},
   "source": [
    "### Randomly chosen continuations based on the number of occurances (of bigrams or trigrams. More occurances means higher probability)"
   ]
  },
  {
   "cell_type": "code",
   "execution_count": 109,
   "id": "Y4ty-J_24Cor",
   "metadata": {
    "id": "Y4ty-J_24Cor"
   },
   "outputs": [],
   "source": [
    "import numpy as np"
   ]
  },
  {
   "cell_type": "code",
   "execution_count": 110,
   "id": "e6e5fk1V1bOw",
   "metadata": {
    "id": "e6e5fk1V1bOw"
   },
   "outputs": [],
   "source": [
    "bigrams_starting_with = {}\n",
    "for bigram, count in bigrams_counts.items():\n",
    "    value_to_change = bigrams_starting_with.setdefault(bigram[0], {'counts': [], 'tokens': []})\n",
    "    value_to_change['counts'].append(count)\n",
    "    value_to_change['tokens'].append(bigram[1])\n",
    "\n",
    "for key in bigrams_starting_with.keys():\n",
    "    bigrams_starting_with[key]['probs'] = np.array(bigrams_starting_with[key]['counts']) / sum(bigrams_starting_with[key]['counts'])"
   ]
  },
  {
   "cell_type": "code",
   "execution_count": 111,
   "id": "NfM-pbOc6PyF",
   "metadata": {
    "colab": {
     "base_uri": "https://localhost:8080/"
    },
    "id": "NfM-pbOc6PyF",
    "outputId": "065fbb8d-1bae-4e75-a374-4505180af2a3"
   },
   "outputs": [
    {
     "name": "stdout",
     "output_type": "stream",
     "text": [
      "{'counts': [7, 16, 1], 'tokens': ['-', 'citizens', 'Citizens'], 'probs': array([0.29166667, 0.66666667, 0.04166667])}\n"
     ]
    }
   ],
   "source": [
    "print(bigrams_starting_with['Fellow'])"
   ]
  },
  {
   "cell_type": "code",
   "execution_count": 112,
   "id": "fDvBFAk29tuo",
   "metadata": {
    "id": "fDvBFAk29tuo"
   },
   "outputs": [],
   "source": [
    "np.random.seed(42)"
   ]
  },
  {
   "cell_type": "code",
   "execution_count": 113,
   "id": "C7jvHWrp6ZD4",
   "metadata": {
    "id": "C7jvHWrp6ZD4"
   },
   "outputs": [],
   "source": [
    "def probabilistic_autocomplete_bigrams(first_tokens = None, max_additional_tokens=30):\n",
    "    if first_tokens is None:\n",
    "        first_tokens = ['<start>']\n",
    "    tokens = first_tokens[:]\n",
    "    for i in range(max_additional_tokens):\n",
    "        new_token = np.random.choice(bigrams_starting_with[tokens[-1]]['tokens'], 1, p=bigrams_starting_with[tokens[-1]]['probs'])[0]\n",
    "        tokens.append(new_token)\n",
    "        if new_token == '<end>':\n",
    "            break\n",
    "    else:\n",
    "        tokens.append('<end>')\n",
    "    return tokens"
   ]
  },
  {
   "cell_type": "code",
   "execution_count": 114,
   "id": "WtLxEYF68l2T",
   "metadata": {
    "colab": {
     "base_uri": "https://localhost:8080/"
    },
    "id": "WtLxEYF68l2T",
    "outputId": "31ba91c9-d4b5-48a8-d474-898cf0cd95a9"
   },
   "outputs": [
    {
     "data": {
      "text/plain": [
       "['<start>',\n",
       " 'This',\n",
       " 'ceremony',\n",
       " 'are',\n",
       " 'many',\n",
       " 'of',\n",
       " 'the',\n",
       " 'United',\n",
       " 'States',\n",
       " 'or',\n",
       " 'difficulties',\n",
       " '.',\n",
       " '<end>']"
      ]
     },
     "execution_count": 114,
     "metadata": {},
     "output_type": "execute_result"
    }
   ],
   "source": [
    "probabilistic_autocomplete_bigrams()"
   ]
  },
  {
   "cell_type": "code",
   "execution_count": 115,
   "id": "Sl1A_hSW9qGT",
   "metadata": {
    "colab": {
     "base_uri": "https://localhost:8080/",
     "height": 35
    },
    "id": "Sl1A_hSW9qGT",
    "outputId": "d87de2a7-dd26-4941-8d6c-720c62c4a593"
   },
   "outputs": [
    {
     "data": {
      "text/plain": [
       "'<start> Most happy condition of their best of an incident to myself under the enforcement of all such a tariff , and yes , though sufficient to anticipate for the parties <end>'"
      ]
     },
     "execution_count": 115,
     "metadata": {},
     "output_type": "execute_result"
    }
   ],
   "source": [
    "' '.join(probabilistic_autocomplete_bigrams())"
   ]
  },
  {
   "cell_type": "markdown",
   "id": "xywX5Lid-G2W",
   "metadata": {
    "id": "xywX5Lid-G2W"
   },
   "source": [
    "---"
   ]
  },
  {
   "cell_type": "code",
   "execution_count": 116,
   "id": "kS3aFoHo-GHP",
   "metadata": {
    "id": "kS3aFoHo-GHP"
   },
   "outputs": [],
   "source": [
    "trigrams_starting_with = {}\n",
    "for trigram, count in trigrams_counts.items():\n",
    "    value_to_change = trigrams_starting_with.setdefault(trigram[:2], {'counts': [], 'tokens': []})\n",
    "    value_to_change['counts'].append(count)\n",
    "    value_to_change['tokens'].append(trigram[2])\n",
    "\n",
    "for key in trigrams_starting_with.keys():\n",
    "    trigrams_starting_with[key]['probs'] = np.array(trigrams_starting_with[key]['counts']) / sum(trigrams_starting_with[key]['counts'])"
   ]
  },
  {
   "cell_type": "code",
   "execution_count": 117,
   "id": "vZxU8fuI-FjG",
   "metadata": {
    "colab": {
     "base_uri": "https://localhost:8080/"
    },
    "id": "vZxU8fuI-FjG",
    "outputId": "c6729f9e-ddb9-45d4-a521-c342d5f73506"
   },
   "outputs": [
    {
     "name": "stdout",
     "output_type": "stream",
     "text": [
      "{'counts': [7, 14], 'tokens': ['-', 'citizens'], 'probs': array([0.33333333, 0.66666667])}\n"
     ]
    }
   ],
   "source": [
    "print(trigrams_starting_with[('<start>', 'Fellow')])"
   ]
  },
  {
   "cell_type": "code",
   "execution_count": 118,
   "id": "lnSw703U-7ww",
   "metadata": {
    "id": "lnSw703U-7ww"
   },
   "outputs": [],
   "source": [
    "def probabilistic_autocomplete_trigrams(first_tokens = None, max_additional_tokens=30):\n",
    "    if first_tokens is None:\n",
    "        first_tokens = ['<start>']\n",
    "    tokens = first_tokens[:]\n",
    "    for i in range(max_additional_tokens):\n",
    "        if len(tokens) == 1:\n",
    "            new_token = np.random.choice(bigrams_starting_with[tokens[-1]]['tokens'], 1, p=bigrams_starting_with[tokens[-1]]['probs'])[0]\n",
    "        else:\n",
    "            good_trigrams = trigrams_starting_with[tuple(tokens[-2:])]\n",
    "            new_token = np.random.choice(good_trigrams['tokens'], 1, p=good_trigrams['probs'])[0]\n",
    "        tokens.append(new_token)\n",
    "        if new_token == '<end>':\n",
    "            break\n",
    "    else:\n",
    "        tokens.append('<end>')\n",
    "    return tokens"
   ]
  },
  {
   "cell_type": "code",
   "execution_count": 119,
   "id": "nlENuNRuAfSP",
   "metadata": {
    "colab": {
     "base_uri": "https://localhost:8080/"
    },
    "id": "nlENuNRuAfSP",
    "outputId": "9cb516bb-1815-4f53-c844-76078dd66478"
   },
   "outputs": [
    {
     "data": {
      "text/plain": [
       "['<start>',\n",
       " 'This',\n",
       " 'ceremony',\n",
       " 'is',\n",
       " 'held',\n",
       " 'in',\n",
       " 'restraint',\n",
       " 'by',\n",
       " 'constitutional',\n",
       " 'laws',\n",
       " 'which',\n",
       " 'provide',\n",
       " 'a',\n",
       " 'better',\n",
       " 'chance',\n",
       " 'to',\n",
       " 'look',\n",
       " 'with',\n",
       " 'confidence',\n",
       " 'to',\n",
       " 'our',\n",
       " 'diplomatic',\n",
       " 'relations',\n",
       " 'by',\n",
       " 'the',\n",
       " 'knowledge',\n",
       " 'and',\n",
       " 'free',\n",
       " 'does',\n",
       " 'not',\n",
       " 'exist',\n",
       " '<end>']"
      ]
     },
     "execution_count": 119,
     "metadata": {},
     "output_type": "execute_result"
    }
   ],
   "source": [
    "np.random.seed(42)\n",
    "probabilistic_autocomplete_trigrams()"
   ]
  },
  {
   "cell_type": "code",
   "execution_count": 120,
   "id": "jLLkFt5uAPAI",
   "metadata": {
    "colab": {
     "base_uri": "https://localhost:8080/"
    },
    "id": "jLLkFt5uAPAI",
    "outputId": "1bde3c41-610e-409f-9646-dc900c499dc4"
   },
   "outputs": [
    {
     "name": "stdout",
     "output_type": "stream",
     "text": [
      "<start> We have seen duty and allegiance in the contrast resulting from the hearts of happy homes ; blessed with the sturdy alliances and engage with the faculties and the known <end>\n"
     ]
    }
   ],
   "source": [
    "print(' '.join(probabilistic_autocomplete_trigrams()))"
   ]
  },
  {
   "cell_type": "code",
   "execution_count": 121,
   "id": "wkYFEUS9AxQc",
   "metadata": {
    "colab": {
     "base_uri": "https://localhost:8080/"
    },
    "id": "wkYFEUS9AxQc",
    "outputId": "cc452d93-a403-40be-e14f-dbf65c9eb824"
   },
   "outputs": [
    {
     "name": "stdout",
     "output_type": "stream",
     "text": [
      "<start> I have said , in the future . <end>\n"
     ]
    }
   ],
   "source": [
    "print(' '.join(probabilistic_autocomplete_trigrams(['<start>', 'I'])))"
   ]
  },
  {
   "cell_type": "code",
   "execution_count": 122,
   "id": "-qh7Xj6BBOdj",
   "metadata": {
    "colab": {
     "base_uri": "https://localhost:8080/"
    },
    "id": "-qh7Xj6BBOdj",
    "outputId": "0981b86d-3cf5-4274-8454-dcae0fb7f56d"
   },
   "outputs": [
    {
     "name": "stdout",
     "output_type": "stream",
     "text": [
      "<start> I believe God intended for us -- and the defective always violate it . <end>\n"
     ]
    }
   ],
   "source": [
    "print(' '.join(probabilistic_autocomplete_trigrams(['<start>', 'I'])))"
   ]
  }
 ],
 "metadata": {
  "colab": {
   "name": "Copy of ngram.ipynb",
   "provenance": []
  },
  "kernelspec": {
   "display_name": "Python 3",
   "language": "python",
   "name": "python3"
  },
  "language_info": {
   "codemirror_mode": {
    "name": "ipython",
    "version": 3
   },
   "file_extension": ".py",
   "mimetype": "text/x-python",
   "name": "python",
   "nbconvert_exporter": "python",
   "pygments_lexer": "ipython3",
   "version": "3.6.7"
  }
 },
 "nbformat": 4,
 "nbformat_minor": 5
}
